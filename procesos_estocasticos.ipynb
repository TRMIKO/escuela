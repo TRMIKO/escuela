{
 "cells": [
  {
   "cell_type": "markdown",
   "metadata": {},
   "source": [
    "Una opcion adicional es hacer  una reparecion cuando la maquina presente fallas. El costo de esta es de $2000 y se lleva\n",
    "un semana \n",
    "\n",
    "En resumen , las posibles acciones (deciciones son)\n",
    "\n",
    "|Desicion|Acciones|Estados Validos|\n",
    "|--------|:------:|--------------:|\n",
    "|1|Nohacer nada|0,1,2|\n",
    "|2|reparcion general(regresa el estado 1)|2|\n",
    "|3|Remplazo(regresa al estado 0)|1,2,3|\n",
    "\n",
    "Considere estas desiciones , los costos inmediatos se resumen en:\n",
    "\n",
    "| Descision       | Estado        | Costo por articulos defectuosos  |Mantenimiento|Produccion perdida|Costo total|\n",
    "| --------------- |:-------------:|:--------------------------------:|:-----------:|:----------------:|----------:|\n",
    "| 1     | 0 <br>1<br>2 |  0<br>1000<br>3000 | 0<br>0<br>0|0<br>0<br>0 |0<br>1000<br>3000|\n",
    "| 2     |  2  |  0 | 2000| 2000|4000|\n",
    "| 3     | 1,2,3  |  0 |4000| 2000|6000|\n",
    "\n",
    "\n",
    "Con esta informacion se debe determinar por que acciones se deben realizar en cada estado para obtener el maximo beneficio\n",
    "\n",
    "se propone el siguiente modelo general.\n",
    "\n",
    "1. Se observa el estado i de la cadena despues de cada transicion(i=0,1,...,M)\n",
    "2. Despues de cadaa observacion se selecciona una desicion R del conjunto de K desiciones posibles (k=1,2,...,k) .Algunas no seran validas\n",
    "3. Si se elige la desicion de $d_i=k$ en el estado i , se incurre en un costoinmediato con valor estperado $C_{ik}$\n",
    "4. La desicon de $d_i=k$ determina cuales serán las probabilidades de transicion para la siguiente transicion desde el estado i .Denotar estas probabilidades po $p_{ij}(k)$ para j=0,1,...M\n",
    "5. Una politica estara definida por la eleccion de una desicion para cada uno de los estados $R(d_0,d_1,....d_M)$\n",
    "6. El objetivo es encontrar una politica optima que maximize los beneficios o minmize los costos\n",
    "\n"
   ]
  },
  {
   "cell_type": "code",
   "execution_count": null,
   "metadata": {
    "collapsed": true
   },
   "outputs": [],
   "source": []
  }
 ],
 "metadata": {
  "kernelspec": {
   "display_name": "Python 3",
   "language": "python",
   "name": "python3"
  },
  "language_info": {
   "codemirror_mode": {
    "name": "ipython",
    "version": 3
   },
   "file_extension": ".py",
   "mimetype": "text/x-python",
   "name": "python",
   "nbconvert_exporter": "python",
   "pygments_lexer": "ipython3",
   "version": "3.4.3"
  }
 },
 "nbformat": 4,
 "nbformat_minor": 0
}
