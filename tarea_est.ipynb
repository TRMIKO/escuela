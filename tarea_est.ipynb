{
 "cells": [
  {
   "cell_type": "code",
   "execution_count": 1,
   "metadata": {
    "collapsed": false
   },
   "outputs": [],
   "source": [
    "import sys\n",
    "sys.path.append(\"./library\")\n",
    "import estadistica"
   ]
  },
  {
   "cell_type": "code",
   "execution_count": 2,
   "metadata": {
    "collapsed": false
   },
   "outputs": [
    {
     "data": {
      "text/plain": [
       "23.2458"
      ]
     },
     "execution_count": 2,
     "metadata": {},
     "output_type": "execute_result"
    }
   ],
   "source": [
    "7.119+6.9043+9.2225"
   ]
  },
  {
   "cell_type": "code",
   "execution_count": null,
   "metadata": {
    "collapsed": true
   },
   "outputs": [],
   "source": []
  },
  {
   "cell_type": "code",
   "execution_count": 3,
   "metadata": {
    "collapsed": true
   },
   "outputs": [],
   "source": [
    "tabla=[[1.59,1.55,1.85],[1.53,1.53,1.6],[1.5,1.47,1.8]]"
   ]
  },
  {
   "cell_type": "code",
   "execution_count": 4,
   "metadata": {
    "collapsed": false
   },
   "outputs": [
    {
     "data": {
      "text/plain": [
       "23.245800000000003"
      ]
     },
     "execution_count": 4,
     "metadata": {},
     "output_type": "execute_result"
    }
   ],
   "source": [
    "estadistica.testCuad(tabla)"
   ]
  },
  {
   "cell_type": "code",
   "execution_count": 5,
   "metadata": {
    "collapsed": false
   },
   "outputs": [
    {
     "data": {
      "text/html": [
       "\n",
       "       <h4>bloque</h4>\n",
       "         23.122866666666667-23.104044444444444\n",
       "        \n",
       "    "
      ],
      "text/plain": [
       "<IPython.core.display.HTML object>"
      ]
     },
     "metadata": {},
     "output_type": "display_data"
    },
    {
     "data": {
      "text/html": [
       "\n",
       "       <h4>total</h4>\n",
       "        <ul>\n",
       "            <li>pre=23.245800000000003</li>\n",
       "            <li>res=23.104044444444444</li>\n",
       "            \n",
       "        </ul>\n",
       "        \n",
       "    "
      ],
      "text/plain": [
       "<IPython.core.display.HTML object>"
      ]
     },
     "metadata": {},
     "output_type": "display_data"
    },
    {
     "data": {
      "text/html": [
       "\n",
       "        <ul>\n",
       "            <li>k=3</li>\n",
       "            <li>n=3</li>\n",
       "            <li>total=9</li>\n",
       "        </ul>\n",
       "        \n",
       "    "
      ],
      "text/plain": [
       "<IPython.core.display.HTML object>"
      ]
     },
     "metadata": {},
     "output_type": "display_data"
    },
    {
     "data": {
      "text/html": [
       "\n",
       "     <ul>\n",
       "            <li>vertical=[4.62, 4.55, 5.25]</li>\n",
       "            <li>horizontal=[4.99, 4.66, 4.77]</li>\n",
       "    </ul>\n",
       "        "
      ],
      "text/plain": [
       "<IPython.core.display.HTML object>"
      ]
     },
     "metadata": {},
     "output_type": "display_data"
    },
    {
     "data": {
      "text/html": [
       "\n",
       "    <table>\n",
       "  <thead>\n",
       "    <tr>\n",
       "      <td>Fuente de variacion</td>\n",
       "      <td>G.L</td>\n",
       "      <td>S.C</td>\n",
       "      <td>S.C.M</td>\n",
       "      <td>F</td>\n",
       "    </tr>\n",
       "  </thead>\n",
       "  <tbody>\n",
       "    <tr>\n",
       "      <td>TRATAMIENTO</td>\n",
       "      <td>2</td>\n",
       "      <td>0.09908888888888967</td>\n",
       "      <td>0.049544444444444835</td>\n",
       "      <td>8.3112767940349</td>\n",
       "    </tr>\n",
       "    <tr>\n",
       "      <td>BLOQUES</td>\n",
       "      <td>2</td>\n",
       "      <td>0.018822222222222962</td>\n",
       "      <td>0.009411111111111481</td>\n",
       "      <td>1.5787511649580133</td>\n",
       "    </tr>\n",
       "    <tr>\n",
       "      <td>ERROR</td>\n",
       "      <td>4</td>\n",
       "      <td>0.02384444444444611</td>\n",
       "      <td>0.005961111111111528</td>\n",
       "      <td></td>\n",
       "    </tr>\n",
       "    <tr>\n",
       "      <td>TOTAL</td>\n",
       "      <td>8</td>\n",
       "      <td>0.14175555555555874</td>\n",
       "      <td></td>\n",
       "      <td></td>\n",
       "    </tr>\n",
       "  </tbody>\n",
       "</table>\n",
       "\n",
       "    "
      ],
      "text/plain": [
       "<IPython.core.display.HTML object>"
      ]
     },
     "metadata": {},
     "output_type": "display_data"
    }
   ],
   "source": [
    "estadistica.anovaBloques(tabla)"
   ]
  },
  {
   "cell_type": "code",
   "execution_count": 6,
   "metadata": {
    "collapsed": false
   },
   "outputs": [
    {
     "data": {
      "text/html": [
       "\n",
       "       <h4>bloque</h4>\n",
       "         21174.0-20609.066666666666\n",
       "        \n",
       "    "
      ],
      "text/plain": [
       "<IPython.core.display.HTML object>"
      ]
     },
     "metadata": {},
     "output_type": "display_data"
    },
    {
     "data": {
      "text/html": [
       "\n",
       "       <h4>total</h4>\n",
       "        <ul>\n",
       "            <li>pre=21526</li>\n",
       "            <li>res=20609.066666666666</li>\n",
       "            \n",
       "        </ul>\n",
       "        \n",
       "    "
      ],
      "text/plain": [
       "<IPython.core.display.HTML object>"
      ]
     },
     "metadata": {},
     "output_type": "display_data"
    },
    {
     "data": {
      "text/html": [
       "\n",
       "        <ul>\n",
       "            <li>k=5</li>\n",
       "            <li>n=3</li>\n",
       "            <li>total=15</li>\n",
       "        </ul>\n",
       "        \n",
       "    "
      ],
      "text/plain": [
       "<IPython.core.display.HTML object>"
      ]
     },
     "metadata": {},
     "output_type": "display_data"
    },
    {
     "data": {
      "text/html": [
       "\n",
       "     <ul>\n",
       "            <li>vertical=[99, 104, 109, 135, 109]</li>\n",
       "            <li>horizontal=[154, 227, 175]</li>\n",
       "    </ul>\n",
       "        "
      ],
      "text/plain": [
       "<IPython.core.display.HTML object>"
      ]
     },
     "metadata": {},
     "output_type": "display_data"
    },
    {
     "data": {
      "text/html": [
       "\n",
       "    <table>\n",
       "  <thead>\n",
       "    <tr>\n",
       "      <td>Fuente de variacion</td>\n",
       "      <td>G.L</td>\n",
       "      <td>S.C</td>\n",
       "      <td>S.C.M</td>\n",
       "      <td>F</td>\n",
       "    </tr>\n",
       "  </thead>\n",
       "  <tbody>\n",
       "    <tr>\n",
       "      <td>TRATAMIENTO</td>\n",
       "      <td>4</td>\n",
       "      <td>258.9333333333343</td>\n",
       "      <td>64.73333333333358</td>\n",
       "      <td>5.564469914040194</td>\n",
       "    </tr>\n",
       "    <tr>\n",
       "      <td>BLOQUES</td>\n",
       "      <td>2</td>\n",
       "      <td>564.9333333333343</td>\n",
       "      <td>282.46666666666715</td>\n",
       "      <td>24.280802292263907</td>\n",
       "    </tr>\n",
       "    <tr>\n",
       "      <td>ERROR</td>\n",
       "      <td>8</td>\n",
       "      <td>93.0666666666657</td>\n",
       "      <td>11.633333333333212</td>\n",
       "      <td></td>\n",
       "    </tr>\n",
       "    <tr>\n",
       "      <td>TOTAL</td>\n",
       "      <td>14</td>\n",
       "      <td>916.9333333333343</td>\n",
       "      <td></td>\n",
       "      <td></td>\n",
       "    </tr>\n",
       "  </tbody>\n",
       "</table>\n",
       "\n",
       "    "
      ],
      "text/plain": [
       "<IPython.core.display.HTML object>"
      ]
     },
     "metadata": {},
     "output_type": "display_data"
    }
   ],
   "source": [
    "tabla=[[27,31,33,33,30],[41,43,44,57,42],[31,30,32,45,37]]\n",
    "estadistica.anovaBloques(tabla)"
   ]
  },
  {
   "cell_type": "code",
   "execution_count": 7,
   "metadata": {
    "collapsed": false
   },
   "outputs": [
    {
     "data": {
      "text/html": [
       "\n",
       "       <h4>bloque</h4>\n",
       "         2245.39-2242.6666666666665\n",
       "        \n",
       "    "
      ],
      "text/plain": [
       "<IPython.core.display.HTML object>"
      ]
     },
     "metadata": {},
     "output_type": "display_data"
    },
    {
     "data": {
      "text/html": [
       "\n",
       "       <h4>total</h4>\n",
       "        <ul>\n",
       "            <li>pre=2354.8199999999997</li>\n",
       "            <li>res=2242.6666666666665</li>\n",
       "            \n",
       "        </ul>\n",
       "        \n",
       "    "
      ],
      "text/plain": [
       "<IPython.core.display.HTML object>"
      ]
     },
     "metadata": {},
     "output_type": "display_data"
    },
    {
     "data": {
      "text/html": [
       "\n",
       "        <ul>\n",
       "            <li>k=2</li>\n",
       "            <li>n=3</li>\n",
       "            <li>total=6</li>\n",
       "        </ul>\n",
       "        \n",
       "    "
      ],
      "text/plain": [
       "<IPython.core.display.HTML object>"
      ]
     },
     "metadata": {},
     "output_type": "display_data"
    },
    {
     "data": {
      "text/html": [
       "\n",
       "     <ul>\n",
       "            <li>vertical=[45.2, 70.8]</li>\n",
       "            <li>horizontal=[40.3, 38.7, 37]</li>\n",
       "    </ul>\n",
       "        "
      ],
      "text/plain": [
       "<IPython.core.display.HTML object>"
      ]
     },
     "metadata": {},
     "output_type": "display_data"
    },
    {
     "data": {
      "text/html": [
       "\n",
       "    <table>\n",
       "  <thead>\n",
       "    <tr>\n",
       "      <td>Fuente de variacion</td>\n",
       "      <td>G.L</td>\n",
       "      <td>S.C</td>\n",
       "      <td>S.C.M</td>\n",
       "      <td>F</td>\n",
       "    </tr>\n",
       "  </thead>\n",
       "  <tbody>\n",
       "    <tr>\n",
       "      <td>TRATAMIENTO</td>\n",
       "      <td>1</td>\n",
       "      <td>109.22666666666692</td>\n",
       "      <td>109.22666666666692</td>\n",
       "      <td>1074.360655739886</td>\n",
       "    </tr>\n",
       "    <tr>\n",
       "      <td>BLOQUES</td>\n",
       "      <td>2</td>\n",
       "      <td>2.7233333333333576</td>\n",
       "      <td>1.3616666666666788</td>\n",
       "      <td>13.393442622978098</td>\n",
       "    </tr>\n",
       "    <tr>\n",
       "      <td>ERROR</td>\n",
       "      <td>2</td>\n",
       "      <td>0.20333333333292103</td>\n",
       "      <td>0.10166666666646051</td>\n",
       "      <td></td>\n",
       "    </tr>\n",
       "    <tr>\n",
       "      <td>TOTAL</td>\n",
       "      <td>5</td>\n",
       "      <td>112.1533333333332</td>\n",
       "      <td></td>\n",
       "      <td></td>\n",
       "    </tr>\n",
       "  </tbody>\n",
       "</table>\n",
       "\n",
       "    "
      ],
      "text/plain": [
       "<IPython.core.display.HTML object>"
      ]
     },
     "metadata": {},
     "output_type": "display_data"
    }
   ],
   "source": [
    "tabla=[[15.9,24.4],[15.3,23.4],[14,23]]\n",
    "estadistica.anovaBloques(tabla)"
   ]
  },
  {
   "cell_type": "code",
   "execution_count": null,
   "metadata": {
    "collapsed": true
   },
   "outputs": [],
   "source": []
  }
 ],
 "metadata": {
  "kernelspec": {
   "display_name": "Python 3",
   "language": "python",
   "name": "python3"
  },
  "language_info": {
   "codemirror_mode": {
    "name": "ipython",
    "version": 3
   },
   "file_extension": ".py",
   "mimetype": "text/x-python",
   "name": "python",
   "nbconvert_exporter": "python",
   "pygments_lexer": "ipython3",
   "version": "3.6.3"
  }
 },
 "nbformat": 4,
 "nbformat_minor": 2
}
