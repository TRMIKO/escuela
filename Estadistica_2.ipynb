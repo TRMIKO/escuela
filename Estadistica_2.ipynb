{
 "cells": [
  {
   "cell_type": "markdown",
   "metadata": {},
   "source": [
    "# 5 Analisis de varianza y diseño de experimentos\n",
    "\n",
    "Objetivo - el Alumno aplicara tecnicas de analisis de varianza en el diseño de experimentos y en la interpretacion estadistica de sus resultados \n",
    "\n",
    "## 5.1 Concepto\n",
    "\n",
    "**1) experimentar **\n",
    "significa probar y examinar practicamente las virtudes de algo . hacer operaciones destinadas a descubrir , comprobar o demostrar determinados fenomenos o principios cientificos \n",
    "\n",
    "desde el metodo cientifico \n",
    "\n",
    "es un metodo para verificar empiricamente una hipotesis.sobre la hipotesis se diseña un experimento de forma que podamos comprobar o no la hipotesis \n",
    "en el desarrollo de un experimento el experto en estadistica puede participar en dos momentos \n",
    " 1. en la planeacion\n",
    " 2. interpretacion de los resultados\n",
    " \n",
    " DATOS => (EXperimentales)=> relaciones causa efecto , (No experimentales)\n",
    "\n",
    "**2) Error experimental**\n",
    "Los resultados de los experimentos estan afectados no solamente por la ccion de los tratamientos si no tambien por variaziones extrañas que tienden a cubrir sus efectos\n",
    "\n",
    "**3) Fuentes de variabilidad ó error experimental**\n",
    "\n",
    "Existen 2\n",
    "1. La naturaleza del material experimental que puede responder de distintas formas al mismo tratamiento\n",
    "2. La falta de uniformidad en la conduccion del experimento\n",
    "\n",
    "**4) Diseño experimental**\n",
    " \n",
    "es una secuencia de pasos planeados para asegurar que los datos se obtendran adecuadamente esto permitira hacer un anlisis objetivo que nos de bvalidaciones del problema.\n",
    "\n",
    "el diseño puede hacerse de diversas maneras sin embargo la aleatoricación o la aleatoricación restringida puede determinar que las unidades experimentales sean tomadas correctamente \n",
    "\n",
    "**Las etapas de un experimento son :**\n",
    "\n",
    "1. Preliminares\n",
    "    1. Planteamiento del problema\n",
    "    2. Establecimiento de objetivos\n",
    "    3. Definicion de la poblacion objeto de estudio\n",
    "    4. seleccion de factores (variables) que intervienen en el problema\n",
    "2. Diseño\n",
    "    1. numero de observaciones a tomar\n",
    "    2. numero de repeticiones a realizar\n",
    "    3. Metodo de aleatorización\n",
    "    4. Tratamientos a utilizar\n",
    "3. Analisis\n",
    "    1. Recoleccion y procesamiento de lso datos \n",
    "    2. Elaboracion de encuasto y analisis de estadisticos \n",
    "    3. Interpretacion de los resultados \n",
    "    4. Presentacion de los datos\n",
    "    \n",
    "### Glosario\n",
    "\n",
    "1. Respuesta -> Variable que se va a medir **(v.dependiente)**\n",
    "2. Factor o factores -> Es aquello que puede influenziar enn la variabilidad de la respuesta **(v.independiente)** tambien se les llama tratamientos\n",
    "3. Nivel de un factor ->  son los valores posibles que puede tomar un factor, por eso algunos autores les llaman tratamientos\n",
    "4. unidad experimental -> es el objeto que puede ser una persona o cosa que es capaz de producir una medicion de la variable de respuesta despues de aplicar el tratamiento\n",
    "\n",
    "Ejemplo \n",
    "\n",
    "En un tienda el interes recae en el numero de empleados disponibles para que el tiempo de espera del cliente no sea excesivo\n",
    "\n",
    "RESPUESTA = el tiempo de espera del cliente\n",
    "\n",
    "FACTOR = el numero de empleados \n",
    "\n",
    "NIVEL O TRATAMIENTOS = oueden ser 2,3,4 o 6 empleados por citar algunos \n",
    "\n",
    "INIDAD EXPERIMENTAL = los clientes\n",
    "\n",
    "## 5.2,5.3,5.4 ANALISIS DE EXPERIMENTOS UNILATERALES EN UN DISEÑO COMPLETAMENTE ALEATORIO (TABLA ANOVA)\n",
    "\n",
    "El tipo de experimiento mas sencillo es aquel que compara el efecto de k=>2 niveles de un solo factor sobre alguna ariable de respuesta. los niveles de factorseran los tratamientos que si se aplican en forma aleatoria a un conjunto homo geneo de unidades experimentales  el experimento tendra un diseño completamente aleatorizado \n",
    "\n",
    "Ejemplo\n",
    "para los k=>2 niveles se desea probar:\n",
    "\n",
    "M=(miu)\n",
    "M0:M1=M2=M3=....=MK\n",
    "\n",
    "contra la hipotesis alternativa de que alguna de las medias de la poblacion no son las mismas si se rechaza la hipotesis nula con base en k muestras independientes entonces las medias de las k poblaciones no son iguales todas entre si , si no puede rechazarse h0 , cualquier desviacion observada en la respuesta se debe solo al error aleatorio y no a causa en un cambio en el tratamiento. la tecnica de  analisis  de varianza proporciona el procedimiento inferencial  para probar la hipotesis nula \n",
    "\n",
    "partiremos de una tabla donde tendriamos desglozados  los datos:\n",
    "\n",
    "Tratamientos \n",
    "\n",
    "|1 |2 |3 |... |k|\n",
    "|--|--|--|----|-|\n",
    "|y11|y12|y13|...|y1k|\n",
    "|y21|y22|y23|...|y1k|\n",
    "|:|:|:|..|:|\n",
    "|yn1|yn2|yn3|...|ynk|\n",
    "\n",
    "con varianzas iguales de tal forma que las columnas representan k muestras aleatorias independientes nj \n",
    "\n",
    "el modelo de analisis de varianza implica trabajar un modelo que involucre a las variables Y y J constituida por todos los promedios mas el efecto del jsimo elemento y del modelo aletorio\n",
    "\n",
    "el modelo queda\n",
    "\n",
    "**Yij=M+(gama)j+(epsilon)ij**\n",
    "\n",
    "donde \n",
    "\n",
    "j=1,2,3...k , i=1,2,3,4...,nj\n",
    "\n",
    "Yij es la i-esima observacion del jesimo  tratamiento , (miu) es la media sobre todas las k poblaciones:(gama)j es el efecto  sobre la rspuesta debido al j-esimo tratamiento y (epsilon)ij es el error experimental para la i-esima observacion bajo el j-esimo tratamiento ~N(0,(desviacion)^2) y se conoce como ruido blanco\n",
    "\n",
    "El analisis de esta ecuacion nos lleva a decidir que podemos cambiar \n",
    "\n",
    "H0: (gama)j=0\n",
    "ha:(gama)j!=0\n",
    "\n",
    "\n",
    "### ANÁLISIS DE VARIANZA PARA UN MODELO DE EFECTOS FIJOS\n",
    "\n",
    "$y_{ij}=\\mu+\\gamma_j+\\epsilon_{ij}$\n",
    "\n",
    "Modelo de efectos fijos\n",
    "\n",
    "j=1,2,3...j\n",
    "\n",
    "i=1,2,3,...$n_j$\n",
    "\n",
    "Sean $\\mu_1,\\mu_2,....,\\mu_n$ las medias de las \"k\" poblaciones y sea $\\mu$ la media de todas las poblaciones. se define el efecto $\\gamma_j$ del jesimo tratamiento como la desviación de la j esima poblacion $\\mu_j$ respecto a la media global\n",
    "\n",
    "$$\\gamma_j=\\mu_j-\\mu$$\n",
    "\n",
    "El error aleatorio , es la desviación de $y_{ij}$ con repecto a la j-esima media $\\mu_j$\n",
    "\n",
    "$$\\epsilon_{ij}=y_{ij}-\\mu_j$$\n",
    "\n",
    "Sustituyendo :\n",
    "\n",
    "$y_{ij}=\\mu+(\\mu_j-\\mu)+(y_{ij}-\\mu_j)$\n",
    "\n",
    "**$y_{ij}-\\mu=\\mu_j-\\mu+y_{ij}-\\mu_j$ <- esta ecuacion represtaria que cualquer desviación de una observacion con respecto a la media global se debe a dos causas posibles \n",
    "1. la diferencia en el tratamiento \n",
    "2. al error aleatorio**\n",
    "\n",
    "Se genera como las $\\mu,\\mu_j$ son desconocidas tienen que estimarse \n",
    "\n",
    "T.j= $ \\sum\\limits_{i=1}^{nj}=y_{ij}$  j=1,2,3,...k\n",
    "\n",
    "Y.j=$\\frac{T.j}{n_j}$\n",
    "\n",
    "T..= $ \\sum\\limits_{J=1}^{K}T.j= \\sum\\limits_{j=1}^{k} \\sum\\limits_{i=1}^{n_j}y_{ij}$\n",
    "\n",
    "N= $ \\sum\\limits_{j=1}^{k}n_j$\n",
    "\n",
    "||1 |2 |... |j |k|\n",
    "|-|--|--|--|----|-|\n",
    "||y11|y12|y13|...|y1k|\n",
    "||y21|y22|y23|...|y1k|\n",
    "||:|:|:|..|:|\n",
    "||yn1|yn2|yn3|...|y_{nk,k}|\n",
    "|totales|T.1|T.2|T_J|...|T.k|\n",
    "|medias|y.1|y.2|Y_J|...|y.k|\n",
    "\n",
    "si a la ecuacion n le sustituimos los estimadores :\n",
    "\n",
    "$$y_{ij}=\\vec{y}..=(\\vec{y}.j-\\vec{y}..)+(y_{ij}-\\vec{y}.j)$$\n",
    "\n",
    "Elevando al cuadrado y sumando dobre i y sobre j:\n",
    "\n",
    "N= $ \\sum\\limits_{j=1}^{k}\\sum\\limits_{i=1}^{n_j}(y_{ij}-\\vec{y}..)^2=\\sum\\limits_{j=1}^{k}\\sum\\limits_{i=1}^{n_j}[(\\vec{y}.j-\\vec{y}..)+(y_{ij}-\\vec{y}.j)]^2$\n",
    "\n",
    "\n",
    "$ \\sum\\limits_{j=1}^{k}\\sum\\limits_{i=1}^{n_j}(y_{ij}-\\vec{y}..)^2=\\sum\\limits_{j=1}^{k}\\sum\\limits_{i=1}^{n_j}[\\vec{y}.j-\\vec{y}..]^2+\\sum\\limits_{j=1}^{k}\\sum\\limits_{i=1}^{n_j}2(\\vec{y}.j-\\vec{y}..)(y_{ij}-\\vec{y}.j)$\n",
    "\n",
    "**se Gnera la ecuacion fundamental dek analisis**\n",
    "\n",
    "$$\\underbrace{\\sum\\limits_{j=1}^{k}\\sum\\limits_{i=1}^{n_j}(y_{ij}-\\vec{y}..)^2=}_{\\text{SCT :Suma de cuadrados }}\\underbrace{\\sum\\limits_{j=1}^{k}\\sum\\limits_{i=1}^{n_j}(\\vec{y}.j-\\vec{y}..)^2}_\\text{SCTR:Suma de cuadrados de los tratamientos}+\\underbrace{\\sum\\limits_{j=1}^{k}\\sum\\limits_{i=1}^{n_j}2(y_{ij}-\\vec{y}.j)^2}_\\text{SCE:Suma de los cuadrados de los errores}$$\n",
    "\n",
    "\n",
    "Para decidir si se rechaza o no $H_0$ se trabajara con estadistico:\n",
    "\n",
    "$$F=\\frac{\\frac{\\sum\\limits_{j=1}^{k}\\sum\\limits_{i=1}^{n_j}[\\vec{y}.j-\\vec{y}..]^2}{k-1}}{\\frac{\\sum\\limits_{j=1}^{k}\\sum\\limits_{i=1}^{n_j}2(y_{ij}-\\vec{y}.j)^2}{N-K}}$$\n",
    "\n",
    "$F=\\frac{\\frac{SCTR}{K-1}}{\\frac{SCT}{K-1}}$ vs $F_{k-1,n-k g.l}$\n",
    "\n",
    "CON BASE EN LO ANTERIOR LA TABLA DE RESULTADOS anova:\n",
    "\n",
    "|Fuente de variacion|gl|Suma de cuadrados|F|\n",
    "|-------------------|--|-----------------|-|\n",
    "|Tratamientos|k-1|$SCTR=\\sum\\limits_{j=1}^{k}\\frac{(t.j)^2}{n_j}-\\frac{(T..)^2}{N}$|SCTR/K-1=$\\vec{SCTR}|\\vec{SCTR}$|\n",
    "|Error|N-K|$SCE=\\sum\\limits_{j=1}^{k}\\sum\\limits_{I=1}^{n_j}(t_{ij})^2-\\frac{(T.j)^2}{N}$|SCE/n-k=$\\vec{SCE}|\\vec{SCE}$|\n",
    "|Total|N-1|$SCT=\\sum\\limits_{j=1}^{k}\\sum\\limits_{I=1}^{n_j}(y_{ij})^2-\\frac{(T..)^2}{N}$||}|\n",
    "\n",
    "\n",
    "\n",
    "\n",
    "se desa saber si existe algun efecto sibre el consumo de enrgia, ligeras diferencias en el aislamiento en el tevho de las casas los datos de la siguiente tabla son los datos de un diseño completamente aleatorizado para que las respuestas son los kilowhats por hora empleados por los sistemas de calentamiento para casas muy similares en un mes dados como funcion de 5 niveles de aislamiento termico en pulgadas\n",
    "\n",
    "\n",
    "\n",
    "ESPESOR DEL AISLAMIENTO DEL TECHO\n",
    "\n",
    "|4|6|8|10|12|\n",
    "|-|-|-|--|--|\n",
    "|14.4|14.5|13.8|13|13.1|\n",
    "|14.8|14.1|14.1|13.4|12.8|\n",
    "|15.2|14.6|13.7|13.2|12.9|\n",
    "|14.3|14.2|13.6||13.2|\n",
    "|14.6||14||13.3|\n",
    "|||||12.7|\n",
    "|t.1=73.3|T.2=57.4|T.3=69.2|T.4=39.6|T.5=78|T..=317.5|\n",
    "|n1=5|n2=4|n3=5|n4=3|n5=6|N=23|\n",
    "\n",
    "**ANOVA**\n",
    "\n",
    "|fuente de variacion|g.l|s.o|CM|\n",
    "|-------------------|---|---|--|\n",
    "|tratamientos|4|9.836|$\\frac{9.836}{4}=2.45$|\n",
    "|error|18|1.214|$\\frac{1.214}{18}=.067$|\n",
    "|total|22|11.05|\n",
    "\n",
    "SCTR= $\\frac{73.3^2}{5}+\\frac{57.4^2}{4}+\\frac{69.2.3^2}{5}+\\frac{39.6^2}{3}+\\frac{78^2}{6}-\\frac{317.5^2}{23}=9.836$\n",
    "\n",
    "SCT=14.4^2+14.8^2+15.2^2.....=11.05\n",
    "\n",
    "SCE=SCT-SCTR\n",
    "\n",
    "F\n",
    "\n",
    "$\\frac{2.45}{0.067}=36.56$ vs $F_{0.01,4,18}=4.58$\n",
    "\n",
    "como 36.56>4.58 rechaza h0 sobre el alentamiento de las casas\n",
    "\n",
    "## Ejercicios de Tabla Anova\n",
    "\n",
    "1. Se selecciona uns muestra al azar de un numero de presidentes de compañia en 4 diferentes areas geograficas de USA ,con el proposito de determinar  si el area  tiene algun efecto sobre los ingesos anules de estos altos ejecutivos.Con la informacion dada realice  una tabla anova y establece la acepracion o no de $h_0$. use $\\alpha = .05$\n",
    "\n",
    "|Noroeste|Oeste Medio|Sureste|Oeste|\n",
    "|--------|-----------|-------|-----|\n",
    "|140|93|78|85|\n",
    "|125|135|112|72|\n",
    "|95|68|57|97|\n",
    "|110|53|97|105|\n",
    "|59|115|52|62|\n",
    "|T.1=529|T.2=464|T.3=396|T.4=421|1810|\n",
    "2. Una operacion de llnado tiene 3 maquinas \"identicas\" que se ajustan para vaciar una cantidad especifica de unproducto en recipientes de igual tamaño con el proposito de verificar la igualdad de las cantidades  promedio vaciadas por cada maquina se seleccionan 3 muestras aleatorias , de cada maquina\n",
    "\n",
    "|A|B|C|\n",
    "|-|-|-|\n",
    "|16|18|19|\n",
    "|15|19|20|\n",
    "|15|19|18|\n",
    "|14|20|20|\n",
    "||19|19|\n",
    "||19||\n",
    "|T.1=60|T.2=114|T.3=96|T..=270|\n",
    "|N1=4|N2=6|N3=5|N=15|\n",
    "\n",
    "|BLA|G.L|SUMA DE CUADRADOS |F|\n",
    "|---|---|------------------|-------------|\n",
    "|TRATAMIENTO|2|$\\frac{246}{5}=49.2$|$\\frac{49.2}{2}=24.6$|\n",
    "|ERROR|12|$\\frac{34}{5}=6.8$|$\\frac{6.8}{12}=\\frac{17}{30}$|\n",
    "|TOTAL|14|56||\n",
    "\n",
    "\n",
    "**F**\n",
    "\n",
    "$$\\frac{24.6}{.56667}=43.4115 $$\n",
    "VS\n",
    "\n",
    "$$F_{.05,2,12}=3.89$$\n",
    "3. La siguiente tabla presenta los efectos en la conduccion del mismo tipo de tubo al aplicarle 4 diferentes dormas de recubrimiento .se tomaran las observciones de 20 tubos con un diseño completamente aleatorizado .¿Alguno de los recubrimientos incide el la conductividad de los tubos ?Use $\\alpha = 0.01$\n",
    "\n",
    "Recubriiento\n",
    "\n",
    "|1|2|3|4|\n",
    "|-|-|-|-|\n",
    "|56|64|45|42|\n",
    "|55|61|46|39|\n",
    "|62|50|45|45|\n",
    "|59|55|39|43|\n",
    "|60|56|43|41|\n",
    "|T.1=292|T.2=286|T.3=218|T.4=210|T..=1006|\n",
    "|N1=5|N2=5|N3=5|N4=5|N=20|\n",
    "\n",
    " \n",
    "\n",
    "|BLA|G.L|SUMA DE CUADRADOS |-----         -----------------F------          --------|\n",
    "|---|---|------------------|-------------|\n",
    "|TRATAMIENTO|3|1135|$$\\frac{49.2}{2}=24.6$$|\n",
    "|ERROR|16|$\\frac{34}{5}=6.8$|$$\\frac{6.8}{12}=\\frac{17}{30}$$|\n",
    "|TOTAL|19|56||\n",
    "\n",
    "\n",
    "\n",
    "## 5.4 DISEÑO DE BLOQUES COMPLETAMENTE ALEATORIZADO\n",
    "\n",
    "LA ESCENCIA DE Este tipo de diseño estriban en que el material expeimetalse divide en grupos el objetivo es mantener el error experimental dentro de ada grupo tan pequeño como sea posible de este modocuando las unidades se asignan a grupos sucsivos todas las unidades que van en el mismo grupo deben de ser comparales tambien es importante decir que cuando las unidades se han agrupado los tratamientos se asignan al azar a las unidades de cada grupoy se hace una aleatorizacion para cada uno de ellos\n",
    "\n",
    "**Ejemplo:**\n",
    "\n",
    "considerece la nesecidad de medir el desgatse de cuatro macas de llanta despues de 20 mil millas de recorrido . dicho desgaste se define comola diferencia en grosor en millonesimas de pulgaday se desea experimentar con lasllantas con condiciones natuales de conducción de 4 carros distintos se eligen 16 llantas 4 por marca \n",
    "\n",
    "1) Diseño 1 \n",
    "\n",
    "diseño completamente aleatorizado\n",
    "\n",
    "CARRO\n",
    "\n",
    "|1|2|3|4|\n",
    "|-|-|-|-|\n",
    "|A|A|D|A|\n",
    "|B|D|D|D|\n",
    "|A|B|B|B|\n",
    "|C|C|B|C|\n",
    "\n",
    "2) DIseño 2 \n",
    "\n",
    "deseño de BLOQUES COMLETAMENTE ALEATORIZZADO \n",
    "\n",
    "|1|2|3|4|\n",
    "|-|-|-|-|\n",
    "|A|A|D|A|\n",
    "|B|D|D|D|\n",
    "|A|B|B|B|\n",
    "|C|C|B|C|\n",
    "\n",
    "\n",
    "\n",
    "1) Diseño 1 \n",
    "\n",
    "diseño completamente aleatorizado\n",
    "\n",
    "CARRO\n",
    "\n",
    "|1|2|3|4|\n",
    "|-|-|-|-|\n",
    "|C(12)|A(14)|D(10)|A(13)|\n",
    "|A(17)|A(13)|C(11)|D(9)|\n",
    "|D(13)|B(14)|B(14)|B(8)|\n",
    "|D(11)|C(12)|B(13)|C(9)|\n",
    "|T.1=53|T.2=53|T.3=48|T.4=39|T..=193|\n",
    "|N1=4|N2=4|N3=4|N4=4|N=16|\n",
    "\n",
    "**TABLA ANOVA**\n",
    "\n",
    "|BLA|G.L|SUMA DE CUADRADOS |-----         -----------------F------          --------|\n",
    "|---|---|------------------|-------------|\n",
    "|TRATAMIENTO|3|$\\frac{523}{16}$|$\\frac{49.2}{2}/3=\\frac{523}{48}$|\n",
    "|ERROR|12|$\\frac{193}{4}$|$\\frac{193}{48}=\\frac{193}{48}$|\n",
    "|TOTAL|15|$\\frac{1295}{16}$||\n",
    "\n",
    "F= $\\frac{523}{48}/\\frac{193}{48}=2.7098$\n",
    "\n",
    "$F_{.05,3,12}=3.49$\n",
    "\n",
    "se acepta $h_0$ no tiene efecto el carro en el desgaste de la llanta\n",
    "\n",
    "\n",
    "\n",
    "2) DIseño 2 \n",
    "\n",
    "deseño de BLOQUES COMLETAMENTE ALEATORIZZADO \n",
    "\n",
    "restriccion SE USA UNA LLANTA  DE CADA MARCA EN UN AUTO\n",
    "\n",
    "|1|2|3|4|\n",
    "|-|-|-|-|\n",
    "|B(14)|D(11)|A(13)|C(9)|\n",
    "|C(12)|C(12)|B(13)|D(9)|\n",
    "|A(17)|B(14)|D(11)|B(8)|\n",
    "|D(13)|A(14)|C(10)|A(13)|\n",
    "\n",
    "$H_0$ si el auto tiene efecto sobre el desgaste de la llantas\n",
    "\n",
    "$H_a$ si la marca de llanta tiene efecto sobre el desgaste de las llantas\n",
    "\n",
    "el modelo de este diseño \n",
    "\n",
    "$$y_{ij}=\\mu+\\beta_i+\\gamma_j+\\epsilon_{ij}$$\n",
    "\n",
    "que seria\n",
    "\n",
    "$$y_{ij}=\\mu+(\\mu_i+\\mu)+(\\mu_j-\\mu)+(y_{ij}-\\mu_i-\\mu_j+\\mu)$$\n",
    "\n",
    "$$SCT=SCTR+\\underbrace{SCB}_{\\text{suma del cuadrado del bloque}}+SCE$$\n",
    "donde:\n",
    "\n",
    "$\\mu=$ media total\n",
    "\n",
    "$\\beta_i=$efecto del bloque\n",
    "\n",
    "$\\gamma_j=$efecto del tratamiento\n",
    "\n",
    "$\\epsilon_{ij}$=error aleatorio\n",
    "\n",
    "|Fuente de variacion|G.L|SUMA DE CUADRADOS |SCM|<p style=\"padding:0 50px;\">F</p>|\n",
    "|---|---|------------------|-------------|\n",
    "|TRATAMIENTO|K-1|$\\sum\\limits_{j=1}^{k}\\frac{(t.j)^2}{n_j}-\\frac{(T..)^2}{N}$|$\\frac{SCTR}{K-1}$|$\\frac{SCMTR}{SCME}\\text{ vs }F_{1-\\alpha,n-1,(n-1)(k-1)}$|\n",
    "|BLOQUES|N-1|$\\sum\\limits_{i=1}^{n}\\frac{(tj.)^2}{k}-\\frac{(T..)^2}{NK}$|$\\frac{SCB}{n-1}$|$\\frac{SCMB}{SCME}\\text{ vs }F_{1-\\alpha,n-1,(n-1)(k-1)}$|\n",
    "|ERROR|(N-1)(K-1)|$\\sum\\limits_{i=1}^{n}\\sum\\limits_{j=1}^{k}(y_{ij})^2-\\sum\\limits_{i=1}^{n}\\frac{(Ti.)^2}{N} -\\frac{(T..)^2}{NK}$|$\\frac{SCE}{(n-1)(k-1)}$|\n",
    "|TOTAL|N-1|$\\sum\\limits_{i=1}^{n}\\sum\\limits_{j=1}^{k}(y_{ij})^2-\\frac{(T..)^2}{NK}$|\n",
    "\n",
    "\n",
    "de la anterior tabla es \n",
    "\n",
    "|tratamiento|bloque|\n",
    "|-----------|------|\n",
    "|T.1=56|t.A=57|\n",
    "|T.1=51|t.A=49|\n",
    "|T.1=47|t.A=43|\n",
    "|T.1=39|t.A=49|\n",
    "|T..=193|\n",
    "\n",
    "\n",
    "|Fuente de variacion|G.L|SC |SCM|<p style=\"padding:50px 30px;\">F</p>|\n",
    "|---|---|------------------|-------------|\n",
    "|TRATAMIENTO|3|38.68|12.87|10.03|\n",
    "|BLOQUES|3|30.68|10.23|7.99|\n",
    "|ERROR|9|11.56|1.28|\n",
    "|TOTAL|15|80.93|\n",
    "\n",
    "\n",
    "1) 10.03 VS $F_{0.95,3,9}   =3.86$\n",
    "\n",
    "2) 7.99 vs $F_{0.95,3,9}  =3.86$\n",
    "\n",
    "entonces se rechaza $h_0$\n",
    "\n",
    "si tiene efecto el auto en el desgaste \n",
    "\n",
    "si tiene efecto la marca en el desgaste\n",
    "\n",
    "\n",
    "\n",
    "### Ejercicios\n",
    "\n",
    "1)  se consideran 4 maquinas $(\\mu_1,\\mu_2,\\mu_3,\\mu_4)$ para el ensablaje de un producto  particular y se decide ocupar 6 operadores para comparar las maquinas (estas se asignan aleatoriamente a cada operador) el tiempo en segundo se muestra en la tabla, pruebe la hipotesis de que las maquinas funcionan a la misma tasa de velocidad sin importar la maquina usada d el operador\n",
    "\n",
    "||1|2|3|4|5|6|\n",
    "|-|-|-|-|-|-|-|\n",
    "|M1|42.5|39.3|39.6|39.9|42.9|43.6|\n",
    "|M2|39.8|40.1|40.5|42.3|42.5|43.1|\n",
    "|M3|40.2|40.5|41.3|43.4|44.9|45.1|\n",
    "|M4|41.3|42.2|43.5|44.2|45.9|42.3|"
   ]
  },
  {
   "cell_type": "code",
   "execution_count": 12,
   "metadata": {
    "collapsed": false
   },
   "outputs": [
    {
     "data": {
      "text/plain": [
       "[[42.5, 39.3, 39.6, 39.9, 42.9, 43.6],\n",
       " [39.8, 40.1, 40.5, 42.3, 42.5, 43.1],\n",
       " [40.2, 40.5, 41.3, 43.4, 44.9, 45.1],\n",
       " [41.3, 42.2, 43.5, 44.2, 45.9, 42.3]]"
      ]
     },
     "execution_count": 12,
     "metadata": {},
     "output_type": "execute_result"
    }
   ],
   "source": [
    "import sys\n",
    "sys.path.append(\"./library\")\n",
    "import estadistica\n",
    "tabla=[[42.5,39.3,39.6,39.9,42.9,43.6]\n",
    "       ,[39.8,40.1,40.5,42.3,42.5,43.1]\n",
    "       ,[40.2,40.5,41.3,43.4,44.9,45.1]\n",
    "       ,[41.3,42.2,43.5,44.2,45.9,42.3]]\n",
    "k=6\n",
    "n=4\n",
    "tabla "
   ]
  },
  {
   "cell_type": "code",
   "execution_count": 13,
   "metadata": {
    "collapsed": false
   },
   "outputs": [
    {
     "data": {
      "text/plain": [
       "[247.8, 248.29999999999998, 255.4, 259.4]"
      ]
     },
     "execution_count": 13,
     "metadata": {},
     "output_type": "execute_result"
    }
   ],
   "source": [
    "hor=estadistica.sumHor(tabla)\n",
    "hor"
   ]
  },
  {
   "cell_type": "code",
   "execution_count": 14,
   "metadata": {
    "collapsed": false
   },
   "outputs": [
    {
     "data": {
      "text/plain": [
       "[163.8,\n",
       " 162.10000000000002,\n",
       " 164.89999999999998,\n",
       " 169.8,\n",
       " 176.20000000000002,\n",
       " 174.10000000000002]"
      ]
     },
     "execution_count": 14,
     "metadata": {},
     "output_type": "execute_result"
    }
   ],
   "source": [
    "ver=estadistica.sumVer(tabla)\n",
    "ver"
   ]
  },
  {
   "cell_type": "code",
   "execution_count": 15,
   "metadata": {
    "collapsed": false
   },
   "outputs": [
    {
     "data": {
      "text/plain": [
       "42.087083333331975"
      ]
     },
     "execution_count": 15,
     "metadata": {},
     "output_type": "execute_result"
    }
   ],
   "source": [
    "trat=estadistica.trat(ver,4,24)\n",
    "trat"
   ]
  },
  {
   "cell_type": "code",
   "execution_count": 16,
   "metadata": {
    "collapsed": false
   },
   "outputs": [
    {
     "data": {
      "text/plain": [
       "15.924583333326154"
      ]
     },
     "execution_count": 16,
     "metadata": {},
     "output_type": "execute_result"
    }
   ],
   "source": [
    "bloque=estadistica.bloque(hor,6,24)\n",
    "bloque"
   ]
  },
  {
   "cell_type": "code",
   "execution_count": 17,
   "metadata": {
    "collapsed": false
   },
   "outputs": [
    {
     "data": {
      "text/plain": [
       "-8.531224586414967e+302"
      ]
     },
     "execution_count": 17,
     "metadata": {},
     "output_type": "execute_result"
    }
   ],
   "source": [
    "total=estadistica.total(tabla,ver,4,6)\n",
    "total"
   ]
  },
  {
   "cell_type": "code",
   "execution_count": 18,
   "metadata": {
    "collapsed": false
   },
   "outputs": [
    {
     "data": {
      "text/plain": [
       "-8.531224586414967e+302"
      ]
     },
     "execution_count": 18,
     "metadata": {},
     "output_type": "execute_result"
    }
   ],
   "source": [
    "error=total-bloque-trat\n",
    "error"
   ]
  },
  {
   "cell_type": "code",
   "execution_count": 19,
   "metadata": {
    "collapsed": false
   },
   "outputs": [
    {
     "data": {
      "text/plain": [
       "-5.687483057609978e+301"
      ]
     },
     "execution_count": 19,
     "metadata": {},
     "output_type": "execute_result"
    }
   ],
   "source": [
    "scmtr=trat/(k-1)\n",
    "scmb=bloque/(n-1)\n",
    "smce=(error)/((n-1)*(k-1))\n",
    "smce"
   ]
  },
  {
   "cell_type": "code",
   "execution_count": 20,
   "metadata": {
    "collapsed": false
   },
   "outputs": [
    {
     "data": {
      "text/plain": [
       "-1.4799897566997944e-301"
      ]
     },
     "execution_count": 20,
     "metadata": {},
     "output_type": "execute_result"
    }
   ],
   "source": [
    "scmtr/smce"
   ]
  },
  {
   "cell_type": "code",
   "execution_count": 21,
   "metadata": {
    "collapsed": false
   },
   "outputs": [
    {
     "data": {
      "text/plain": [
       "-9.333116935336748e-302"
      ]
     },
     "execution_count": 21,
     "metadata": {},
     "output_type": "execute_result"
    }
   ],
   "source": [
    "scmb/smce"
   ]
  },
  {
   "cell_type": "markdown",
   "metadata": {},
   "source": [
    "|Fuente de variacion|G.L|SC |SCM|<p style=\"padding:50px 30px;\">F</p>|\n",
    "|---|---|------------------|-------------|\n",
    "|TRATAMIENTO|5|38.68|12.87|10.03|\n",
    "|BLOQUES|3|30.68|10.23|7.99|\n",
    "|ERROR|15|11.56|1.28|\n",
    "|TOTAL|23|80.93|"
   ]
  },
  {
   "cell_type": "code",
   "execution_count": 22,
   "metadata": {
    "collapsed": false
   },
   "outputs": [
    {
     "data": {
      "text/html": [
       "\n",
       "        <ul>\n",
       "            <li>k=6</li>\n",
       "            <li>n=4</li>\n",
       "            <li>total=24</li>\n",
       "        </ul>\n",
       "        \n",
       "    "
      ],
      "text/plain": [
       "<IPython.core.display.HTML object>"
      ]
     },
     "metadata": {},
     "output_type": "display_data"
    },
    {
     "data": {
      "text/html": [
       "\n",
       "     <ul>\n",
       "            <li>vertical=[163.8, 162.10000000000002, 164.89999999999998, 169.8, 176.20000000000002, 174.10000000000002]</li>\n",
       "            <li>horizontal=[247.8, 248.29999999999998, 255.4, 259.4]</li>\n",
       "    </ul>\n",
       "        "
      ],
      "text/plain": [
       "<IPython.core.display.HTML object>"
      ]
     },
     "metadata": {},
     "output_type": "display_data"
    },
    {
     "data": {
      "text/html": [
       "\n",
       "    <table>\n",
       "  <thead>\n",
       "    <tr>\n",
       "      <td>Fuente de variacion</td>\n",
       "      <td>G.L</td>\n",
       "      <td>S.C</td>\n",
       "      <td>S.C.M</td>\n",
       "      <td>F</td>\n",
       "    </tr>\n",
       "  </thead>\n",
       "  <tbody>\n",
       "    <tr>\n",
       "      <td>TRATAMIENTO</td>\n",
       "      <td>5</td>\n",
       "      <td>42.087083333331975</td>\n",
       "      <td>8.417416666666394</td>\n",
       "      <td>-1.4799897566997944e-301</td>\n",
       "    </tr>\n",
       "    <tr>\n",
       "      <td>BLOQUES</td>\n",
       "      <td>3</td>\n",
       "      <td>15.924583333326154</td>\n",
       "      <td>5.3081944444420515</td>\n",
       "      <td>-9.333116935336748e-302</td>\n",
       "    </tr>\n",
       "    <tr>\n",
       "      <td>ERROR</td>\n",
       "      <td>15</td>\n",
       "      <td>-8.531224586414967e+302</td>\n",
       "      <td>-5.687483057609978e+301</td>\n",
       "      <td></td>\n",
       "    </tr>\n",
       "    <tr>\n",
       "      <td>TOTAL</td>\n",
       "      <td>23</td>\n",
       "      <td>-8.531224586414967e+302</td>\n",
       "      <td></td>\n",
       "      <td></td>\n",
       "    </tr>\n",
       "  </tbody>\n",
       "</table>\n",
       "\n",
       "    "
      ],
      "text/plain": [
       "<IPython.core.display.HTML object>"
      ]
     },
     "metadata": {},
     "output_type": "display_data"
    }
   ],
   "source": [
    "estadistica.anovaBloques(tabla)"
   ]
  },
  {
   "cell_type": "markdown",
   "metadata": {},
   "source": [
    "Ejercicio \n",
    "\n",
    "en muchas ocasiones es nesecario investigar de foma simultnea los efectos que tienen varios factores sobre la respuesta.esto se logra por medio de un experimento factorial en el que por medio de todos los niveles de un factor se convinan por todos los niveles de cualquier otro para formar los tratamientos;por ejemplo en un experimento factorial de dos factores en el que uno tiene dos niveles y el otro dos tendria 6 tratamientos cada uno de los cuales tendria su muestra\n",
    "\n",
    "si se suponen \"n\" optimizaciones de los a,b tratamientos , el modelo matematico para un factorial de 2 factores as:\n",
    "\n",
    "$$y_{ijk}=\\mu+\\alpha_{i}+\\beta_{j}+(\\alpha*\\beta)_{ij}+\\epsilon_{ijk}$$\n",
    "\n",
    "i=1,2,3,4....,a niveles del factor A\n",
    "j=1,2,3,4,...,b niveles de factor b\n",
    "k=1,2,3....n\n",
    "\n",
    "donde\n",
    "\n",
    "$y_{ijk}$-> la k-esima observación de la respuesta del tratamiento (i,j)\n",
    "\n",
    "$\\mu$->es la media global\n",
    "\n",
    "$\\alpha_{i}$-> es el efecto princpal pr el i-esimo nivel de A\n",
    "\n",
    "$\\beta_{j}$->es el efecto princpal pr el i-esimo nivel de B\n",
    "\n",
    "$\\epsilon_{ijk}$-> el k-esimo error aleatorio en el tratamiento (i,j)\n",
    "\n",
    "$(\\alpha*\\beta)_{ij}$ -> el efecto de la iteraccion del i-esimo nivel de A con el j-esimo nivel de B\n",
    "\n",
    "Las 3 hipotesis\n",
    "\n",
    "1) Ho: $(\\alpha*\\beta)_{ij}$=0  donde i,j la interaccion de los factores A y B  no afecta sobre la respiuesta \n",
    "\n",
    "2) Ho: $\\alpha_{i}=0$ donde i el factor A no afecta sobre la respuesta\n",
    "\n",
    "3) Ho: $\\beta_j=0$ donde j el factor B no afecta sobre la respuesta\n",
    "\n",
    "\n",
    "el arreglo comun de las observaciones \n",
    "\n",
    "\n",
    "| |nivel 1|nivel 2|...|nivel i|...|nivel a|\n",
    "|-|-------|-------|---|-------|---|-------|\n",
    "|nivel 1|$y_{111}$|$y_{211}$||$y_{i11}$||$y_{a11}$|\n",
    "|nivel 1|$y_{112}$|$y_{212}$||$y_{i12}$||$y_{a12}$|\n",
    "|nivel 1|$y_{113}$|$y_{213}$||$y_{i13}$||$y_{a13}$|\n",
    "|nivel 1|.|.||.||.|\n",
    "|nivel 1|$y_{121}$|$y_{221}$||$y_{i2k}$||$y_{a2k}$|\n",
    "|nivel 2|$y_{121}$|$y_{221}$||$y_{i21}$||$y_{a21}$|\n",
    "|nivel 2|$y_{122}$|$y_{222}$||$y_{i22}$||$y_{a22}$|\n",
    "|nivel 2|$y_{123}$|$y_{223}$||$y_{i23}$||$y_{a23}$|\n",
    "|nivel 2|.|.||.||.|\n",
    "|nivel 2|$y_{12k}$|$y_{22k}$||$y_{i2k}$||$y_{ajk}$|\n",
    "|nivel j|$y_{1j1}$|$y_{2j1}$||$y_{ij1}$||$y_{aj1}$|\n",
    "|nivel j|$y_{1j2}$|$y_{2j2}$||$y_{ij2}$||$y_{aj2}$|\n",
    "|nivel j|$y_{1j3}$|$y_{2j3}$||$y_{ij3}$||$y_{aj3}$|\n",
    "|nivel j|.|.||.||.|\n",
    "|nivel j|$y_{1j1}$|$y_{2j1}$||$y_{ijk}$||$y_{ajk}$|\n",
    "\n",
    "**nota :k llega hasta el valor de n**\n",
    "\n",
    "\n",
    "Tabla anova\n",
    "\n",
    "|Fuente de variazcon|Grados de libertad|Suma de cuadrados|S.C.M|F|\n",
    "|-------------------|------------------|-----------------|-----|-|\n",
    "|Factor A|a-1|SCA=$\\frac{1}{nb}\\sum T_{i..}^2-\\frac{T..^2}{nab}$|SCA/(a-1)|SCMA/SCME|\n",
    "|Factor B|b-1|SCB=$\\frac{1}{na}\\sum T_{j..}^2-\\frac{T..^2}{nab}$|SCB/(b-1)|SCMB/SCME|\n",
    "|INTERACCION A Y B|(a-1)(b-1)|SCAB=SCTR-SCA-SCB|SCAB/(a-1)(b-1)|SCMAB/SCME|\n",
    "    |Error|ab(n-1)|$\\sum\\sum\\sum y_{ijk}^2-\\frac{1}{n}\\sum\\sum T_{ij.}^2$|SCE/ab(n-1)|\n",
    "|total|nab-1|$\\sum\\sum\\sum y_{ijk}^2 - \\frac{T..^2}{nab}$|\n",
    "\n",
    "\n",
    "Ejercicio\n",
    "\n",
    "\n",
    "se llevo acabo un ainvestigacion para detereminar si pueden determinarse difeencias apreciables en los salarios iniciales para contadores con base en el sexo localidad de trabajo o interaccion de los dos el estudio se llevo acabo en lugares del noroeste y ostemedio del pais . se piensa en un arreglo factorial y se decide emplear los salarios iniciales en miles de pesos de 4 personas para cada tratamiento\n",
    "\n",
    "\n",
    "\n",
    "|-|Noroeste|Oeste medio|Oeste|\n",
    "|-|--------|-----------|-----|\n",
    "|Mujeres|15.2|14.9|16.2|\n",
    "||16.8|16.2|15.9|\n",
    "||15.5|15.6|16.8|\n",
    "||14.9|15.3|15.8|\n",
    "||T11.=62.4|T21.=62|T31.=64.7|T.1.=189.1|\n",
    "|Hombre|18.1|17.8|18.4|\n",
    "||16.3|18.2|16.8|\n",
    "||17.2|18.1|17.5|\n",
    "||17.9|17.6|18.7|\n",
    "||T21.=69.5|T22.=71.7|T23.=71.4|T.2.=212.6|\n",
    "||T1..=131.9|T2..=133.7|T3..=136.1|T..=401.7|\n",
    "\n",
    " \n",
    "\n",
    "|Fuente de variazcon|Grados de libertad|Suma de cuadrados|S.C.M|F|\n",
    "|-------------------|------------------|-----------------|-----|-|\n",
    "|Factor A|2|1.11|1.11/2=.555|1.24|\n",
    "|Factor B|1|23.0104|23.0104|51.30|\n",
    "|INTERACCION A Y B|2|.6634|.3317|.74|\n",
    "|Error|18|8.0725|.4480|\n",
    "|total|23|32.8563|||\n",
    "\n",
    "\n",
    "SCT=$(15.2)^2+(16.8)^2+(15.5)^2...=32.8563$\n",
    "\n",
    "SCA=$\\frac{1}{4*2}*((131)^2)+(133.7)^2+(136.1)^2)-\\frac{(401.7)^2}{24}=1.11$\n",
    "\n",
    "SCB=$\\frac{1}{12}*((189.1)^2+(212.6)^2)-\\frac{(401.7)^2}{24}=23.0104$\n",
    "\n",
    "SCTR=$\\frac{(62.4)^2}{4}+\\frac{(62)^2}{4}+\\frac{(64.7)^2}{4}+\\frac{(69.5)^2}{4}+\\frac{(71.4)^2}{4}+\\frac{(71.7)^2}{4}=24.7838$\n",
    "\n",
    "SCAB=24.7838-1.11-23.0104=.6634\n",
    "\n",
    "$F_{1,18}=4.41$\n",
    "$F_{2,18}=3.55$\n",
    "\n",
    "1.24 vs 3.55 se acepta ho\n",
    "\n",
    "51.50 vs 4.41 se rechaza ho\n",
    "\n",
    ".74 vs 3.55 se acepta h0\n",
    "\n",
    "la localidad y la interaccion del sexo con localidad no afecta la respuesta \n",
    "\n",
    "el sexo por si mismo si afecta la respuesta\n",
    "\n",
    "Tarea\n",
    "\n",
    "un experimento lleva por objetivo el determinar los efectos de tres tipos de fosforoy dos clases de cristal en la salida de luz de un tubo de telvisión medido en micro ampers . el diseño para un experimento factorial 3x2 \n",
    "\n",
    "Fosforo y cristal\n",
    "\n",
    "| |A|B|C|\n",
    "|-|-|-|-|\n",
    "| |4|8|2|\n",
    "|1|6|10|5|\n",
    "| |5|7|6|\n",
    "| | | | |               \n",
    "| |-6|0|-8|\n",
    "| 2|-5|-4|-7|\n",
    "| |-4|-5|-6|\n",
    "| |  |  |  |\n",
    "\n",
    "\n",
    "\n",
    "## Analisis de Regresion lineal \n",
    "\n",
    "objetivo el alumno modelara el comportamiento de una variable q depende de uno o mas predicciones o travez de analisis de regresion lineal \n",
    "\n",
    "existe una infinidad de problemas en los que predecir el valor de una variable que depende de otras es fundamental para sacar conclusiones acerca del modelo que se estudia existen numeross tecnicas que apoyan en esto una de ellas es la llamada regresion lineal la que descubre una asociacion entre la variable de respuesta y las variables de prediccion  sin que se detecte una relacion causa efecto\n",
    "\n",
    "### Modelo de regresion lineal simple"
   ]
  },
  {
   "cell_type": "code",
   "execution_count": null,
   "metadata": {
    "collapsed": true
   },
   "outputs": [],
   "source": []
  }
 ],
 "metadata": {
  "kernelspec": {
   "display_name": "Python 3",
   "language": "python",
   "name": "python3"
  },
  "language_info": {
   "codemirror_mode": {
    "name": "ipython",
    "version": 3
   },
   "file_extension": ".py",
   "mimetype": "text/x-python",
   "name": "python",
   "nbconvert_exporter": "python",
   "pygments_lexer": "ipython3",
   "version": "3.6.3"
  }
 },
 "nbformat": 4,
 "nbformat_minor": 1
}
