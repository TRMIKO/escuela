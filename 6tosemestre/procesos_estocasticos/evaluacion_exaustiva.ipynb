{
 "cells": [
  {
   "cell_type": "markdown",
   "metadata": {},
   "source": [
    "# EVALUACION EXHAUSTIVA"
   ]
  },
  {
   "cell_type": "code",
   "execution_count": 187,
   "metadata": {},
   "outputs": [
    {
     "data": {
      "application/vnd.jupyter.widget-view+json": {
       "model_id": "f2a2403c65d9489892b5c51c3aeab22b",
       "version_major": 2,
       "version_minor": 0
      },
      "text/plain": [
       "VBox(children=(Box(children=(FloatText(value=1.0), FloatText(value=2.0), FloatText(value=3.0), FloatText(value…"
      ]
     },
     "metadata": {},
     "output_type": "display_data"
    }
   ],
   "source": [
    "\n",
    "\n",
    "import numpy as np\n",
    "import wolframalpha\n",
    "client = wolframalpha.Client(\"K56TY6-XQUK252299\")\n",
    "from ipywidgets import Layout, Button, Box, VBox\n",
    "\n",
    "# Items flex proportionally to the weight and the left over space around the text\n",
    "items_0 = [widgets.FloatText(value=i+1) for i in range(0,4)]\n",
    "items_1 = [widgets.FloatText(value=i+1) for i in range(4,8)]\n",
    "items_2 = [widgets.FloatText(value=i+1) for i in range(8,12)]\n",
    "items_3 = [widgets.FloatText(value=i+1) for i in range(12,16)]\n",
    "box_layout = Layout(display='flex',\n",
    "                    flex_flow='row',\n",
    "                    align_items='stretch',\n",
    "                    width='100%')\n",
    "box_0 = Box(children=items_0, layout=box_layout)\n",
    "box_1 = Box(children=items_1, layout=box_layout)\n",
    "box_2 = Box(children=items_2, layout=box_layout)\n",
    "box_3 = Box(children=items_3, layout=box_layout)\n",
    "VBox([box_0,box_1,box_2,box_3])\n"
   ]
  },
  {
   "cell_type": "code",
   "execution_count": 171,
   "metadata": {},
   "outputs": [
    {
     "data": {
      "text/plain": [
       "{'@success': 'true',\n",
       " '@error': 'false',\n",
       " '@numpods': '5',\n",
       " '@datatypes': 'Weather',\n",
       " '@timedout': '',\n",
       " '@timedoutpods': '',\n",
       " '@timing': '5.296',\n",
       " '@parsetiming': '2.112',\n",
       " '@parsetimedout': 'false',\n",
       " '@recalculate': '',\n",
       " '@id': 'MSPa1049612d6c9h65a14da6b000016509ci667e2g1d5',\n",
       " '@host': 'https://www4b.wolframalpha.com',\n",
       " '@server': '33',\n",
       " '@related': 'https://www4b.wolframalpha.com/api/v2/relatedQueries.jsp?id=MSPa1049712d6c9h65a14da6b000012ae64ii84c0he1e4003125516353033000',\n",
       " '@version': '2.6',\n",
       " 'pod': [{'@title': 'Input interpretation',\n",
       "   '@scanner': 'Identity',\n",
       "   '@id': 'Input',\n",
       "   '@position': '100',\n",
       "   '@error': 'false',\n",
       "   '@numsubpods': '1',\n",
       "   'subpod': {'@title': '',\n",
       "    'img': {'@src': 'https://www4b.wolframalpha.com/Calculate/MSP/MSP1049812d6c9h65a14da6b00006aiab768358e9549?MSPStoreType=image/gif&s=33',\n",
       "     '@alt': 'temperature | Washington, United States Wednesday, October 3, 2012',\n",
       "     '@title': 'temperature | Washington, United States Wednesday, October 3, 2012',\n",
       "     '@width': '327',\n",
       "     '@height': '61'},\n",
       "    'plaintext': 'temperature | Washington, United States\\nWednesday, October 3, 2012'}},\n",
       "  {'@title': 'Result',\n",
       "   '@scanner': 'Data',\n",
       "   '@id': 'Result',\n",
       "   '@position': '200',\n",
       "   '@error': 'false',\n",
       "   '@numsubpods': '1',\n",
       "   '@primary': 'true',\n",
       "   'subpod': {'@title': '',\n",
       "    'img': {'@src': 'https://www4b.wolframalpha.com/Calculate/MSP/MSP1049912d6c9h65a14da6b000014h4a9ii42bccce2?MSPStoreType=image/gif&s=33',\n",
       "     '@alt': '(21 to 27) °C (average: 24 °C) (Wednesday, October 3, 2012)',\n",
       "     '@title': '(21 to 27) °C (average: 24 °C) (Wednesday, October 3, 2012)',\n",
       "     '@width': '187',\n",
       "     '@height': '36'},\n",
       "    'plaintext': '(21 to 27) °C (average: 24 °C)\\n(Wednesday, October 3, 2012)'},\n",
       "   'states': {'@count': '1',\n",
       "    'state': {'@name': 'Show non‐metric',\n",
       "     '@input': 'Result__Show non‐metric'}}},\n",
       "  {'@title': 'History',\n",
       "   '@scanner': 'Data',\n",
       "   '@id': 'TemperatureChart:WeatherData',\n",
       "   '@position': '300',\n",
       "   '@error': 'false',\n",
       "   '@numsubpods': '1',\n",
       "   'subpod': {'@title': '',\n",
       "    'img': {'@src': 'https://www4b.wolframalpha.com/Calculate/MSP/MSP1050012d6c9h65a14da6b00006367309f8ae98abi?MSPStoreType=image/gif&s=33',\n",
       "     '@alt': '   |  |   |   low: 21 °C Wed, Oct 3, 7:15am, ... | average: 24 °C  | high: 27 °C Wed, Oct 3, 4:45pm, ...  |   |  ',\n",
       "     '@title': '   |  |   |   low: 21 °C Wed, Oct 3, 7:15am, ... | average: 24 °C  | high: 27 °C Wed, Oct 3, 4:45pm, ...  |   |  ',\n",
       "     '@width': '519',\n",
       "     '@height': '186'},\n",
       "    'plaintext': '|  |   |  \\nlow: 21 °C\\nWed, Oct 3, 7:15am, ... | average: 24 °C\\n | high: 27 °C\\nWed, Oct 3, 4:45pm, ...\\n |   |'},\n",
       "   'states': {'@count': '3',\n",
       "    'statelist': {'@count': '7',\n",
       "     '@value': 'Day',\n",
       "     '@delimiters': '',\n",
       "     'state': [{'@name': 'Day', '@input': 'TemperatureChart:WeatherData__Day'},\n",
       "      {'@name': 'Week', '@input': 'TemperatureChart:WeatherData__Week'},\n",
       "      {'@name': 'Month', '@input': 'TemperatureChart:WeatherData__Month'},\n",
       "      {'@name': 'Year', '@input': 'TemperatureChart:WeatherData__Year'},\n",
       "      {'@name': '5 years', '@input': 'TemperatureChart:WeatherData__5 years'},\n",
       "      {'@name': '10 years',\n",
       "       '@input': 'TemperatureChart:WeatherData__10 years'},\n",
       "      {'@name': 'All', '@input': 'TemperatureChart:WeatherData__All'}]},\n",
       "    'state': [{'@name': 'Show non‐metric',\n",
       "      '@input': 'TemperatureChart:WeatherData__Show non‐metric'},\n",
       "     {'@name': 'More', '@input': 'TemperatureChart:WeatherData__More'}]}},\n",
       "  {'@title': 'Weather station information',\n",
       "   '@scanner': 'Data',\n",
       "   '@id': 'WeatherStationInformation:WeatherData',\n",
       "   '@position': '400',\n",
       "   '@error': 'false',\n",
       "   '@numsubpods': '1',\n",
       "   'subpod': {'@title': '',\n",
       "    'img': {'@src': 'https://www4b.wolframalpha.com/Calculate/MSP/MSP1050112d6c9h65a14da6b00004adih9g85182g040?MSPStoreType=image/gif&s=33',\n",
       "     '@alt': 'name | KDCA  (Reagan Washington National Airport) relative position | 6 km SSW  (from center of Washington) relative elevation | (comparable to center of Washington)',\n",
       "     '@title': 'name | KDCA  (Reagan Washington National Airport) relative position | 6 km SSW  (from center of Washington) relative elevation | (comparable to center of Washington)',\n",
       "     '@width': '458',\n",
       "     '@height': '100'},\n",
       "    'plaintext': 'name | KDCA  (Reagan Washington National Airport)\\nrelative position | 6 km SSW  (from center of Washington)\\nrelative elevation | (comparable to center of Washington)'},\n",
       "   'states': {'@count': '2',\n",
       "    'state': [{'@name': 'Show non‐metric',\n",
       "      '@input': 'WeatherStationInformation:WeatherData__Show non‐metric'},\n",
       "     {'@name': 'More',\n",
       "      '@input': 'WeatherStationInformation:WeatherData__More'}]},\n",
       "   'infos': {'@count': '2',\n",
       "    'info': [{'units': {'@count': '1',\n",
       "       'unit': {'@short': 'km', '@long': 'kilometers'},\n",
       "       'img': {'@src': 'https://www4b.wolframalpha.com/Calculate/MSP/MSP1050212d6c9h65a14da6b00003he214edb15e3hc5?MSPStoreType=image/gif&s=33',\n",
       "        '@width': '120',\n",
       "        '@height': '26'}}},\n",
       "     {'link': {'@url': 'http://maps.google.com?ie=UTF8&z=12&t=k&ll=38.848%2C-77.035&q=38.848%20N%2C%2077.035%20W',\n",
       "       '@text': 'Satellite image'}}]}},\n",
       "  {'@title': 'Weather station comparisons',\n",
       "   '@scanner': 'Data',\n",
       "   '@id': 'LocalTemperature:WeatherData',\n",
       "   '@position': '500',\n",
       "   '@error': 'false',\n",
       "   '@numsubpods': '1',\n",
       "   'subpod': {'@title': '',\n",
       "    'img': {'@src': 'https://www4b.wolframalpha.com/Calculate/MSP/MSP1050312d6c9h65a14da6b000025e194h99d2chg9a?MSPStoreType=image/gif&s=33',\n",
       "     '@alt': ' | position | elevation | min | average | max KDCA | 6 km SSW | 20 m | 21 °C | 24 °C | 27 °C KCGS | 12 km NE | 15 m | 21 °C | 22 °C | 27 °C KADW | 17 km SE | 88 m | 21 °C | 23 °C | 27 °C (sorted by distance and inferred reliability)',\n",
       "     '@title': ' | position | elevation | min | average | max KDCA | 6 km SSW | 20 m | 21 °C | 24 °C | 27 °C KCGS | 12 km NE | 15 m | 21 °C | 22 °C | 27 °C KADW | 17 km SE | 88 m | 21 °C | 23 °C | 27 °C (sorted by distance and inferred reliability)',\n",
       "     '@width': '419',\n",
       "     '@height': '153'},\n",
       "    'plaintext': '| position | elevation | min | average | max\\nKDCA | 6 km SSW | 20 m | 21 °C | 24 °C | 27 °C\\nKCGS | 12 km NE | 15 m | 21 °C | 22 °C | 27 °C\\nKADW | 17 km SE | 88 m | 21 °C | 23 °C | 27 °C\\n(sorted by distance and inferred reliability)'},\n",
       "   'states': {'@count': '2',\n",
       "    'state': [{'@name': 'Show non‐metric',\n",
       "      '@input': 'LocalTemperature:WeatherData__Show non‐metric'},\n",
       "     {'@name': 'More', '@input': 'LocalTemperature:WeatherData__More'}]},\n",
       "   'infos': {'@count': '1',\n",
       "    'info': {'units': {'@count': '2',\n",
       "      'unit': [{'@short': 'km', '@long': 'kilometers'},\n",
       "       {'@short': 'm', '@long': 'meters'}],\n",
       "      'img': {'@src': 'https://www4b.wolframalpha.com/Calculate/MSP/MSP1050412d6c9h65a14da6b0000610hh0i635f46b6d?MSPStoreType=image/gif&s=33',\n",
       "       '@width': '120',\n",
       "       '@height': '47'}}}}}],\n",
       " 'sources': {'@count': '3',\n",
       "  'source': [{'@url': 'https://www.wolframalpha.com/sources/AirportDataSourceInformationNotes.html',\n",
       "    '@text': 'Airport data'},\n",
       "   {'@url': 'https://www.wolframalpha.com/sources/CityDataSourceInformationNotes.html',\n",
       "    '@text': 'City data'},\n",
       "   {'@url': 'https://www.wolframalpha.com/sources/WeatherDataSourceInformationNotes.html',\n",
       "    '@text': 'Weather data'}]}}"
      ]
     },
     "execution_count": 171,
     "metadata": {},
     "output_type": "execute_result"
    }
   ],
   "source": [
    "res = client.query('temperature in Washington, DC on October 3, 2012')\n",
    "res"
   ]
  },
  {
   "cell_type": "code",
   "execution_count": 169,
   "metadata": {},
   "outputs": [
    {
     "name": "stdout",
     "output_type": "stream",
     "text": [
      "Politica a evaluar separada por comas\n"
     ]
    },
    {
     "data": {
      "application/vnd.jupyter.widget-view+json": {
       "model_id": "93770b6751474cae952a339717c51a25",
       "version_major": 2,
       "version_minor": 0
      },
      "text/plain": [
       "Text(value='', placeholder='1,2,3,1')"
      ]
     },
     "metadata": {},
     "output_type": "display_data"
    }
   ],
   "source": [
    "print('Politica a evaluar separada por comas')\n",
    "poli=widgets.Text(\n",
    "    placeholder='1,2,3,1')\n",
    "poli"
   ]
  },
  {
   "cell_type": "code",
   "execution_count": 178,
   "metadata": {},
   "outputs": [
    {
     "data": {
      "text/plain": [
       "array([[0.48, 0.3 , 0.22, 0.  ],\n",
       "       [0.59, 0.27, 0.14, 0.  ],\n",
       "       [0.43, 0.26, 0.31, 0.  ],\n",
       "       [0.  , 0.  , 0.  , 0.  ]])"
      ]
     },
     "execution_count": 178,
     "metadata": {},
     "output_type": "execute_result"
    }
   ],
   "source": [
    "arr=[[.48,.30,.22,0],[.59,.27,.14,0],[.43,.26,.31,0],[0,0,0,0]]\n",
    "#arr=[[items_0[i].value for i in range(0,4)]\n",
    "#     ,[items_1[i].value for i in range(0,4)]\n",
    "#     ,[items_2[i].value for i in range(0,4)]\n",
    "#     ,[items_3[i].value for i in range(0,4)]]\n",
    "original=np.array(arr)\n",
    "original\n",
    "#IPython.notebook.execute_all_cells()"
   ]
  },
  {
   "cell_type": "code",
   "execution_count": 179,
   "metadata": {},
   "outputs": [
    {
     "data": {
      "text/plain": [
       "array([1., 1., 1., 0.])"
      ]
     },
     "execution_count": 179,
     "metadata": {},
     "output_type": "execute_result"
    }
   ],
   "source": [
    "np.sum(original,axis=1)"
   ]
  },
  {
   "cell_type": "code",
   "execution_count": 180,
   "metadata": {},
   "outputs": [
    {
     "data": {
      "text/plain": [
       "array([[0.48, 0.3 , 0.22, 0.  ],\n",
       "       [0.59, 0.27, 0.14, 0.  ],\n",
       "       [0.43, 0.26, 0.31, 0.  ],\n",
       "       [1.  , 0.  , 0.  , 0.  ]])"
      ]
     },
     "execution_count": 180,
     "metadata": {},
     "output_type": "execute_result"
    }
   ],
   "source": [
    "\n",
    "pol=[1,1,1,3]\n",
    "for i in range(0,4):\n",
    "    if pol[i]==1:\n",
    "        continue\n",
    "    elif pol[i]==2:\n",
    "        for j in range(0,4):\n",
    "            if j==1:\n",
    "                original[i][j]=1\n",
    "            else:\n",
    "                original[i][j]=0\n",
    "    elif pol[i]==3:\n",
    "        for j in range(0,4):\n",
    "            if j==0:\n",
    "                original[i][j]=1\n",
    "            else:\n",
    "                original[i][j]=0\n",
    "            \n",
    "original"
   ]
  },
  {
   "cell_type": "code",
   "execution_count": 181,
   "metadata": {},
   "outputs": [
    {
     "data": {
      "text/plain": [
       "array([[0.48, 0.59, 0.43, 1.  ],\n",
       "       [0.3 , 0.27, 0.26, 0.  ],\n",
       "       [0.22, 0.14, 0.31, 0.  ],\n",
       "       [0.  , 0.  , 0.  , 0.  ]])"
      ]
     },
     "execution_count": 181,
     "metadata": {},
     "output_type": "execute_result"
    }
   ],
   "source": [
    "trans=np.transpose(original)\n",
    "trans"
   ]
  },
  {
   "cell_type": "code",
   "execution_count": 182,
   "metadata": {},
   "outputs": [
    {
     "data": {
      "text/plain": [
       "array([[-0.52,  0.59,  0.43,  1.  ],\n",
       "       [ 0.3 , -0.73,  0.26,  0.  ],\n",
       "       [ 0.22,  0.14, -0.69,  0.  ],\n",
       "       [ 0.  ,  0.  ,  0.  , -1.  ]])"
      ]
     },
     "execution_count": 182,
     "metadata": {},
     "output_type": "execute_result"
    }
   ],
   "source": [
    "for i in range(0,4):\n",
    "    trans[i][i]=trans[i][i]-1\n",
    "trans"
   ]
  },
  {
   "cell_type": "code",
   "execution_count": 183,
   "metadata": {},
   "outputs": [
    {
     "name": "stdout",
     "output_type": "stream",
     "text": [
      "-0.52 0.59 0.43 1.0 0\n",
      "0.3 -0.73 0.26 0.0 0\n",
      "0.22 0.14 -0.69 0.0 0\n",
      "0.0 0.0 0.0 -1.0 0\n",
      "1 1 1 1 1\n"
     ]
    }
   ],
   "source": [
    "for i in range(0,4):\n",
    "    print(\"{} {} {} {} 0\".format(trans[i][0],trans[i][1],trans[i][2],trans[i][3]))\n",
    "print(\"1 1 1 1 1\")"
   ]
  },
  {
   "cell_type": "code",
   "execution_count": 155,
   "metadata": {},
   "outputs": [
    {
     "data": {
      "text/plain": [
       "array([[ 7700, 11700, 16700,     0],\n",
       "       [14500, 18500, 23500,     0],\n",
       "       [    0,     0, 26400, 26400]])"
      ]
     },
     "execution_count": 155,
     "metadata": {},
     "output_type": "execute_result"
    }
   ],
   "source": [
    "costo=np.array([[7700,14500,0],[11700,18500,0],[16700,23500,26400],[0,0,26400]])\n",
    "pi=[2950/6563,2600/6563,1013/6563,0]\n",
    "costo=np.transpose(costo)\n",
    "costo"
   ]
  },
  {
   "cell_type": "code",
   "execution_count": 156,
   "metadata": {},
   "outputs": [
    {
     "data": {
      "text/plain": [
       "array([0.5 , 0.28, 0.22, 0.  ])"
      ]
     },
     "execution_count": 156,
     "metadata": {},
     "output_type": "execute_result"
    }
   ],
   "source": [
    "x_1=4673/9341\n",
    "x_2=2642/9341\n",
    "x_3=2026/9341\n",
    "x_4=0\n",
    "pi=np.array([x_1,x_2,x_3,x_4])\n",
    "pi=np.around(pi, decimals=2)\n",
    "\n",
    "pi"
   ]
  },
  {
   "cell_type": "code",
   "execution_count": 157,
   "metadata": {},
   "outputs": [
    {
     "data": {
      "text/plain": [
       "array([ 7700., 11700., 16700., 26400.])"
      ]
     },
     "execution_count": 157,
     "metadata": {},
     "output_type": "execute_result"
    }
   ],
   "source": [
    "total=np.zeros((4,))\n",
    "cont=0\n",
    "for i in pol:\n",
    "    total[cont]=costo[i-1][cont]\n",
    "    cont+=1\n",
    "total"
   ]
  },
  {
   "cell_type": "code",
   "execution_count": 158,
   "metadata": {},
   "outputs": [
    {
     "data": {
      "text/plain": [
       "10800.0"
      ]
     },
     "execution_count": 158,
     "metadata": {},
     "output_type": "execute_result"
    }
   ],
   "source": [
    "res=np.sum(np.multiply(total,pi),axis=0)\n",
    "res"
   ]
  },
  {
   "cell_type": "code",
   "execution_count": 159,
   "metadata": {},
   "outputs": [
    {
     "name": "stdout",
     "output_type": "stream",
     "text": [
      "Politica a evaluar [1, 1, 1, 3]\n",
      "\n",
      "\n",
      "0.0a+ 5.0b+ 9.0c+ 1.0d= 0\n",
      "2.0a+ 5.0b+ 10.0c+ 0.0d= 0\n",
      "3.0a+ 7.0b+ 10.0c+ 0.0d= 0\n",
      "4.0a+ 8.0b+ 12.0c+ -1.0d= 0\n",
      "a+b+c+d=1\n",
      "\n",
      " Vector PI  [0.5  0.28 0.22 0.  ]\n",
      "\n",
      " 0.5*7700.0 + 0.28*11700.0 + 0.22*16700.0 + 0.0*26400.0=10800.0\n",
      "\n",
      " EL resultado es  10800.0\n"
     ]
    }
   ],
   "source": [
    "print(\"Politica a evaluar\", pol)\n",
    "print(\"\\n\")\n",
    "for i in range(0,4):\n",
    "    print(\"{}a+ {}b+ {}c+ {}d= 0\".format(trans[i][0],trans[i][1],trans[i][2],trans[i][3]))\n",
    "print(\"a+b+c+d=1\")\n",
    "\n",
    "print(\"\\n Vector PI \",pi)\n",
    "\n",
    "print(\"\\n {}*{} + {}*{} + {}*{} + {}*{}={}\".format(pi[0],total[0],pi[1],total[1],pi[2],total[2],pi[3],total[3],res))\n",
    "\n",
    "print(\"\\n EL resultado es \",res)"
   ]
  },
  {
   "cell_type": "code",
   "execution_count": 173,
   "metadata": {},
   "outputs": [],
   "source": [
    "def gauss(A):\n",
    "    n = len(A)\n",
    "\n",
    "    for i in range(0, n):\n",
    "        # Search for maximum in this column\n",
    "        maxEl = abs(A[i][i])\n",
    "        maxRow = i\n",
    "        for k in range(i+1, n):\n",
    "            if abs(A[k][i]) > maxEl:\n",
    "                maxEl = abs(A[k][i])\n",
    "                maxRow = k\n",
    "\n",
    "        # Swap maximum row with current row (column by column)\n",
    "        for k in range(i, n+1):\n",
    "            tmp = A[maxRow][k]\n",
    "            A[maxRow][k] = A[i][k]\n",
    "            A[i][k] = tmp\n",
    "\n",
    "        # Make all rows below this one 0 in current column\n",
    "        for k in range(i+1, n):\n",
    "            c = -A[k][i]/A[i][i]\n",
    "            for j in range(i, n+1):\n",
    "                if i == j:\n",
    "                    A[k][j] = 0\n",
    "                else:\n",
    "                    A[k][j] += c * A[i][j]\n",
    "\n",
    "    # Solve equation Ax=b for an upper triangular matrix A\n",
    "    x = [0 for i in range(n)]\n",
    "    for i in range(n-1, -1, -1):\n",
    "        x[i] = A[i][n]/A[i][i]\n",
    "        for k in range(i-1, -1, -1):\n",
    "            A[k][n] -= A[k][i] * x[i]\n",
    "    return x"
   ]
  },
  {
   "cell_type": "code",
   "execution_count": 186,
   "metadata": {},
   "outputs": [
    {
     "ename": "IndexError",
     "evalue": "list index out of range",
     "output_type": "error",
     "traceback": [
      "\u001b[0;31m---------------------------------------------------------------------------\u001b[0m",
      "\u001b[0;31mIndexError\u001b[0m                                Traceback (most recent call last)",
      "\u001b[0;32m<ipython-input-186-c3b7337ef77c>\u001b[0m in \u001b[0;36m<module>\u001b[0;34m()\u001b[0m\n\u001b[1;32m      3\u001b[0m        \u001b[0;34m[\u001b[0m \u001b[0;36m0.22\u001b[0m\u001b[0;34m,\u001b[0m  \u001b[0;36m0.14\u001b[0m\u001b[0;34m,\u001b[0m \u001b[0;34m-\u001b[0m\u001b[0;36m0.69\u001b[0m\u001b[0;34m,\u001b[0m  \u001b[0;36m0.\u001b[0m  \u001b[0;34m,\u001b[0m\u001b[0;36m0\u001b[0m\u001b[0;34m]\u001b[0m\u001b[0;34m,\u001b[0m\u001b[0;34m\u001b[0m\u001b[0m\n\u001b[1;32m      4\u001b[0m        \u001b[0;34m[\u001b[0m \u001b[0;36m0.\u001b[0m  \u001b[0;34m,\u001b[0m  \u001b[0;36m0.\u001b[0m  \u001b[0;34m,\u001b[0m  \u001b[0;36m0.\u001b[0m  \u001b[0;34m,\u001b[0m \u001b[0;34m-\u001b[0m\u001b[0;36m1.\u001b[0m  \u001b[0;34m,\u001b[0m\u001b[0;36m0\u001b[0m\u001b[0;34m]\u001b[0m\u001b[0;34m,\u001b[0m\u001b[0;34m\u001b[0m\u001b[0m\n\u001b[0;32m----> 5\u001b[0;31m        [1    ,  1   ,   1  ,   1  ,1]])\n\u001b[0m",
      "\u001b[0;32m<ipython-input-173-32ece9102d03>\u001b[0m in \u001b[0;36mgauss\u001b[0;34m(A)\u001b[0m\n\u001b[1;32m     13\u001b[0m         \u001b[0;31m# Swap maximum row with current row (column by column)\u001b[0m\u001b[0;34m\u001b[0m\u001b[0;34m\u001b[0m\u001b[0m\n\u001b[1;32m     14\u001b[0m         \u001b[0;32mfor\u001b[0m \u001b[0mk\u001b[0m \u001b[0;32min\u001b[0m \u001b[0mrange\u001b[0m\u001b[0;34m(\u001b[0m\u001b[0mi\u001b[0m\u001b[0;34m,\u001b[0m \u001b[0mn\u001b[0m\u001b[0;34m+\u001b[0m\u001b[0;36m1\u001b[0m\u001b[0;34m)\u001b[0m\u001b[0;34m:\u001b[0m\u001b[0;34m\u001b[0m\u001b[0m\n\u001b[0;32m---> 15\u001b[0;31m             \u001b[0mtmp\u001b[0m \u001b[0;34m=\u001b[0m \u001b[0mA\u001b[0m\u001b[0;34m[\u001b[0m\u001b[0mmaxRow\u001b[0m\u001b[0;34m]\u001b[0m\u001b[0;34m[\u001b[0m\u001b[0mk\u001b[0m\u001b[0;34m]\u001b[0m\u001b[0;34m\u001b[0m\u001b[0m\n\u001b[0m\u001b[1;32m     16\u001b[0m             \u001b[0mA\u001b[0m\u001b[0;34m[\u001b[0m\u001b[0mmaxRow\u001b[0m\u001b[0;34m]\u001b[0m\u001b[0;34m[\u001b[0m\u001b[0mk\u001b[0m\u001b[0;34m]\u001b[0m \u001b[0;34m=\u001b[0m \u001b[0mA\u001b[0m\u001b[0;34m[\u001b[0m\u001b[0mi\u001b[0m\u001b[0;34m]\u001b[0m\u001b[0;34m[\u001b[0m\u001b[0mk\u001b[0m\u001b[0;34m]\u001b[0m\u001b[0;34m\u001b[0m\u001b[0m\n\u001b[1;32m     17\u001b[0m             \u001b[0mA\u001b[0m\u001b[0;34m[\u001b[0m\u001b[0mi\u001b[0m\u001b[0;34m]\u001b[0m\u001b[0;34m[\u001b[0m\u001b[0mk\u001b[0m\u001b[0;34m]\u001b[0m \u001b[0;34m=\u001b[0m \u001b[0mtmp\u001b[0m\u001b[0;34m\u001b[0m\u001b[0m\n",
      "\u001b[0;31mIndexError\u001b[0m: list index out of range"
     ]
    }
   ],
   "source": [
    "gauss([[-0.52,  0.59,  0.43,  1.  ,0],\n",
    "       [ 0.3 , -0.73,  0.26,  0.  ,0],\n",
    "       [ 0.22,  0.14, -0.69,  0.  ,0],\n",
    "       [ 0.  ,  0.  ,  0.  , -1.  ,0],\n",
    "       [1    ,  1   ,   1  ,   1  ,1]])"
   ]
  },
  {
   "cell_type": "code",
   "execution_count": null,
   "metadata": {},
   "outputs": [],
   "source": []
  }
 ],
 "metadata": {
  "kernelspec": {
   "display_name": "Python 3",
   "language": "python",
   "name": "python3"
  },
  "language_info": {
   "codemirror_mode": {
    "name": "ipython",
    "version": 3
   },
   "file_extension": ".py",
   "mimetype": "text/x-python",
   "name": "python",
   "nbconvert_exporter": "python",
   "pygments_lexer": "ipython3",
   "version": "3.6.5"
  }
 },
 "nbformat": 4,
 "nbformat_minor": 2
}
