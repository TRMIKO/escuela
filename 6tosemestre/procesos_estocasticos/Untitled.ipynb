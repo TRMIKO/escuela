{
 "cells": [
  {
   "cell_type": "code",
   "execution_count": null,
   "metadata": {},
   "outputs": [],
   "source": []
  },
  {
   "cell_type": "code",
   "execution_count": 1,
   "metadata": {},
   "outputs": [],
   "source": [
    "import numpy as np\n",
    "def mExp(m,n):\n",
    "    tmp=m\n",
    "    for i in range(n-1):\n",
    "        tmp=tmp@m\n",
    "    return tmp\n",
    "\n",
    "def recu(x,y,t,m):\n",
    "    if t==1:\n",
    "        return m[x][y]\n",
    "    res=[]\n",
    "    sum=0\n",
    "\n",
    "    for i in range(1,t+1):\n",
    "        sum=0\n",
    "        #print(\"iteracion de ------------------- i {}\".format(i))\n",
    "        #print(\"longitud {}\".format(len(res)))\n",
    "        for j in range(len(res)):\n",
    "            sum=sum+(res[j]*mExp(m,len(res)-j)[y][y])\n",
    "        res.append(mExp(m,i)[x][y]-sum)\n",
    "    return res"
   ]
  },
  {
   "cell_type": "code",
   "execution_count": 32,
   "metadata": {},
   "outputs": [
    {
     "data": {
      "application/vnd.jupyter.widget-view+json": {
       "model_id": "a8d0c0a4ea844e71aed63b8e5430c109",
       "version_major": 2,
       "version_minor": 0
      },
      "text/plain": [
       "VBox(children=(Box(children=(FloatText(value=1.0), FloatText(value=2.0), FloatText(value=3.0), FloatText(value…"
      ]
     },
     "metadata": {},
     "output_type": "display_data"
    }
   ],
   "source": [
    "from ipywidgets import Layout, Button, Box, VBox,widgets,HBox\n",
    "\n",
    "# Items flex proportionally to the weight and the left over space around the text\n",
    "items_0 = [widgets.FloatText(value=i+1) for i in range(0,4)]\n",
    "items_1 = [widgets.FloatText(value=i+1) for i in range(4,8)]\n",
    "items_2 = [widgets.FloatText(value=i+1) for i in range(8,12)]\n",
    "items_3 = [widgets.FloatText(value=i+1) for i in range(12,16)]\n",
    "box_layout = Layout(display='flex',\n",
    "                    flex_flow='row',\n",
    "                    align_items='stretch',\n",
    "                    width='100%')\n",
    "box_0 = Box(children=items_0, layout=box_layout)\n",
    "box_1 = Box(children=items_1, layout=box_layout)\n",
    "box_2 = Box(children=items_2, layout=box_layout)\n",
    "box_3 = Box(children=items_3, layout=box_layout)\n",
    "VBox([box_0,box_1,box_2,box_3])"
   ]
  },
  {
   "cell_type": "markdown",
   "metadata": {},
   "source": [
    "Por favor inserte la matriz de transicion en la parte superior\n",
    "\n",
    "y Justo debajo el estado final e inicial"
   ]
  },
  {
   "cell_type": "code",
   "execution_count": 35,
   "metadata": {},
   "outputs": [
    {
     "name": "stdout",
     "output_type": "stream",
     "text": [
      "Politica a evaluar separada por comas\n"
     ]
    },
    {
     "ename": "TypeError",
     "evalue": "'Box' object does not support indexing",
     "output_type": "error",
     "traceback": [
      "\u001b[0;31m---------------------------------------------------------------------------\u001b[0m",
      "\u001b[0;31mTypeError\u001b[0m                                 Traceback (most recent call last)",
      "\u001b[0;32m<ipython-input-35-b98529234f3d>\u001b[0m in \u001b[0;36m<module>\u001b[0;34m()\u001b[0m\n\u001b[1;32m      7\u001b[0m \u001b[0mbox\u001b[0m \u001b[0;34m=\u001b[0m \u001b[0mBox\u001b[0m\u001b[0;34m(\u001b[0m\u001b[0mchildren\u001b[0m\u001b[0;34m=\u001b[0m\u001b[0mitems\u001b[0m\u001b[0;34m,\u001b[0m \u001b[0mlayout\u001b[0m\u001b[0;34m=\u001b[0m\u001b[0mbox_layout\u001b[0m\u001b[0;34m)\u001b[0m\u001b[0;34m\u001b[0m\u001b[0m\n\u001b[1;32m      8\u001b[0m \u001b[0;34m\u001b[0m\u001b[0m\n\u001b[0;32m----> 9\u001b[0;31m \u001b[0mHBox\u001b[0m\u001b[0;34m(\u001b[0m\u001b[0;34m[\u001b[0m\u001b[0mbox\u001b[0m\u001b[0;34m[\u001b[0m\u001b[0;36m0\u001b[0m\u001b[0;34m]\u001b[0m\u001b[0;34m]\u001b[0m\u001b[0;34m)\u001b[0m\u001b[0;34m\u001b[0m\u001b[0m\n\u001b[0m",
      "\u001b[0;31mTypeError\u001b[0m: 'Box' object does not support indexing"
     ]
    }
   ],
   "source": [
    "print('Politica a evaluar separada por comas')\n",
    "items=[widgets.IntText(value='1',description='Donde emp'),widgets.IntText(value='2'),widgets.IntText(value='2')]\n",
    "box_layout = Layout(display='flex',\n",
    "                    flex_flow='row',\n",
    "                    align_items='stretch',\n",
    "                    width='100%')\n",
    "box = Box(children=items, layout=box_layout)\n",
    "\n",
    "VBox([box])"
   ]
  },
  {
   "cell_type": "code",
   "execution_count": 28,
   "metadata": {},
   "outputs": [
    {
     "data": {
      "text/plain": [
       "[7.0, 177.0]"
      ]
     },
     "execution_count": 28,
     "metadata": {},
     "output_type": "execute_result"
    }
   ],
   "source": [
    "arr=[[items_0[i].value for i in range(0,4)]\n",
    "     ,[items_1[i].value for i in range(0,4)]\n",
    "     ,[items_2[i].value for i in range(0,4)]\n",
    "     ,[items_3[i].value for i in range(0,4)]]\n",
    "\n",
    "recu(int(items[0].value),int(items[1].value),int(items[2].value),np.array(arr))"
   ]
  },
  {
   "cell_type": "code",
   "execution_count": null,
   "metadata": {},
   "outputs": [],
   "source": []
  },
  {
   "cell_type": "code",
   "execution_count": null,
   "metadata": {},
   "outputs": [],
   "source": []
  }
 ],
 "metadata": {
  "kernelspec": {
   "display_name": "Python 3",
   "language": "python",
   "name": "python3"
  },
  "language_info": {
   "codemirror_mode": {
    "name": "ipython",
    "version": 3
   },
   "file_extension": ".py",
   "mimetype": "text/x-python",
   "name": "python",
   "nbconvert_exporter": "python",
   "pygments_lexer": "ipython3",
   "version": "3.6.5"
  }
 },
 "nbformat": 4,
 "nbformat_minor": 2
}
