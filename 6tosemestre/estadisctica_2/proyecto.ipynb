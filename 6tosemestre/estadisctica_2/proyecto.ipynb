{
 "cells": [
  {
   "cell_type": "code",
   "execution_count": 1,
   "metadata": {},
   "outputs": [],
   "source": [
    "import numpy as np\n",
    "import pandas as pd\n"
   ]
  },
  {
   "cell_type": "markdown",
   "metadata": {},
   "source": [
    "# PROYECTO DE ESTADISTICA 2\n",
    "\n",
    "## ALUMNOS \n",
    "LOPEZ PEREZ CRISTINA AIME\n",
    "\n",
    "GUERRERO LOPEZ LUIS ARTURO\n",
    "\n",
    "\n",
    "TEMAS A DESARROLAR POR UNIDADES\n",
    "\n",
    "1. [Pruebas no paramétricas](#Pruebas-no-paramétricas)\n",
    "2. [Inferencia bayesiana para variables discretas](#Inferencia-bayesiana-para-variables-discretas)\n",
    "3. [Inferencia bayesiana para variables continuas]()\n",
    "4. [Comparación de inferencias bayesiana y frecuentista]()\n",
    "5. [Análisis de varianza y diseño de experimentos]()\n",
    "6. [Análisis de regresión lineal]()\n",
    "\n",
    "\n",
    "# Pruebas no paramétricas\n",
    "\n",
    "## Prueba de Mann Whitney\n",
    "\n",
    "En esta prueba evaluaremos el rendimiento de gasolina de dos marcas de Carros Nissan y Ford,y ocuparemos Mann Whitney para evaluar si existe alguna diferencia de rendimiento entre las dos marcas \n",
    "\n",
    "Primero presentamos los datos"
   ]
  },
  {
   "cell_type": "code",
   "execution_count": 64,
   "metadata": {},
   "outputs": [
    {
     "data": {
      "text/html": [
       "<div>\n",
       "<style scoped>\n",
       "    .dataframe tbody tr th:only-of-type {\n",
       "        vertical-align: middle;\n",
       "    }\n",
       "\n",
       "    .dataframe tbody tr th {\n",
       "        vertical-align: top;\n",
       "    }\n",
       "\n",
       "    .dataframe thead th {\n",
       "        text-align: right;\n",
       "    }\n",
       "</style>\n",
       "<table border=\"1\" class=\"dataframe\">\n",
       "  <thead>\n",
       "    <tr style=\"text-align: right;\">\n",
       "      <th></th>\n",
       "      <th>KM/L</th>\n",
       "      <th>carro</th>\n",
       "      <th>marca</th>\n",
       "    </tr>\n",
       "  </thead>\n",
       "  <tbody>\n",
       "    <tr>\n",
       "      <th>0</th>\n",
       "      <td>8.97</td>\n",
       "      <td>RANGER</td>\n",
       "      <td>FORD</td>\n",
       "    </tr>\n",
       "    <tr>\n",
       "      <th>1</th>\n",
       "      <td>10.51</td>\n",
       "      <td>EDGE</td>\n",
       "      <td>FORD</td>\n",
       "    </tr>\n",
       "    <tr>\n",
       "      <th>2</th>\n",
       "      <td>11.50</td>\n",
       "      <td>PLATINA</td>\n",
       "      <td>NISSAN</td>\n",
       "    </tr>\n",
       "    <tr>\n",
       "      <th>3</th>\n",
       "      <td>12.67</td>\n",
       "      <td>MAXIMA</td>\n",
       "      <td>NISSAN</td>\n",
       "    </tr>\n",
       "    <tr>\n",
       "      <th>4</th>\n",
       "      <td>13.70</td>\n",
       "      <td>APRIO</td>\n",
       "      <td>NISSAN</td>\n",
       "    </tr>\n",
       "    <tr>\n",
       "      <th>5</th>\n",
       "      <td>14.05</td>\n",
       "      <td>TSURU</td>\n",
       "      <td>NISSAN</td>\n",
       "    </tr>\n",
       "    <tr>\n",
       "      <th>6</th>\n",
       "      <td>14.42</td>\n",
       "      <td>FIESTA</td>\n",
       "      <td>FORD</td>\n",
       "    </tr>\n",
       "    <tr>\n",
       "      <th>7</th>\n",
       "      <td>14.70</td>\n",
       "      <td>FOCUS</td>\n",
       "      <td>FORD</td>\n",
       "    </tr>\n",
       "    <tr>\n",
       "      <th>8</th>\n",
       "      <td>14.80</td>\n",
       "      <td>MARCH</td>\n",
       "      <td>NISSAN</td>\n",
       "    </tr>\n",
       "    <tr>\n",
       "      <th>9</th>\n",
       "      <td>14.94</td>\n",
       "      <td>TIIDA</td>\n",
       "      <td>NISSAN</td>\n",
       "    </tr>\n",
       "    <tr>\n",
       "      <th>10</th>\n",
       "      <td>15.70</td>\n",
       "      <td>MICRA</td>\n",
       "      <td>NISSAN</td>\n",
       "    </tr>\n",
       "    <tr>\n",
       "      <th>11</th>\n",
       "      <td>15.90</td>\n",
       "      <td>IKON</td>\n",
       "      <td>FORD</td>\n",
       "    </tr>\n",
       "    <tr>\n",
       "      <th>12</th>\n",
       "      <td>17.27</td>\n",
       "      <td>FIGO</td>\n",
       "      <td>FORD</td>\n",
       "    </tr>\n",
       "    <tr>\n",
       "      <th>13</th>\n",
       "      <td>25.62</td>\n",
       "      <td>FUSION</td>\n",
       "      <td>FORD</td>\n",
       "    </tr>\n",
       "  </tbody>\n",
       "</table>\n",
       "</div>"
      ],
      "text/plain": [
       "     KM/L    carro   marca\n",
       "0    8.97   RANGER    FORD\n",
       "1   10.51     EDGE    FORD\n",
       "2   11.50  PLATINA  NISSAN\n",
       "3   12.67   MAXIMA  NISSAN\n",
       "4   13.70    APRIO  NISSAN\n",
       "5   14.05    TSURU  NISSAN\n",
       "6   14.42   FIESTA    FORD\n",
       "7   14.70    FOCUS    FORD\n",
       "8   14.80    MARCH  NISSAN\n",
       "9   14.94    TIIDA  NISSAN\n",
       "10  15.70    MICRA  NISSAN\n",
       "11  15.90     IKON    FORD\n",
       "12  17.27     FIGO    FORD\n",
       "13  25.62   FUSION    FORD"
      ]
     },
     "execution_count": 64,
     "metadata": {},
     "output_type": "execute_result"
    }
   ],
   "source": [
    "data={\"carro\":[\"TIIDA\",\"TSURU\",\"MICRA\",\"APRIO\",\"MAXIMA\",\"MARCH\",\"PLATINA\",\"FUSION\",\"FIESTA\",\"FIGO\",\"FOCUS\",\"IKON\",\"RANGER\",\"EDGE\"],\n",
    "      \"marca\":[\"NISSAN\",\"NISSAN\",\"NISSAN\",\"NISSAN\",\"NISSAN\",\"NISSAN\",\"NISSAN\",\"FORD\",\"FORD\",\"FORD\",\"FORD\",\"FORD\",\"FORD\",\"FORD\"],\n",
    "      \"KM/L\":[14.94,14.05,15.70,13.70,12.67,14.80,11.50,25.62,14.42,17.27,14.70,15.90,8.97,10.51]}\n",
    "df=pd.DataFrame(data=data)\n",
    "df=df.sort_values(by=\"KM/L\")\n",
    "df=df.reset_index(drop=True)\n",
    "df"
   ]
  },
  {
   "cell_type": "markdown",
   "metadata": {},
   "source": [
    "Estos son los datos que vamos a analizar ordenados por el consumo \n",
    "\n",
    "Nissan -> R1\n",
    "\n",
    "Ford -> R2\n",
    "\n",
    "\n",
    "vamos a calcular la suma de R1"
   ]
  },
  {
   "cell_type": "code",
   "execution_count": 92,
   "metadata": {},
   "outputs": [
    {
     "data": {
      "text/plain": [
       "73.57"
      ]
     },
     "execution_count": 92,
     "metadata": {},
     "output_type": "execute_result"
    }
   ],
   "source": [
    "R1=0\n",
    "n1=0\n",
    "n2=0\n",
    "for i in range(0,len(df[\"KM/L\"])):\n",
    "    if df.iloc[i,2]==\"NISSAN\":\n",
    "        R1+=df.iloc[1,0]\n",
    "        n1+=1\n",
    "    elif df.iloc[i,2]==\"FORD\":\n",
    "        n2+=1\n",
    "R1"
   ]
  },
  {
   "cell_type": "markdown",
   "metadata": {},
   "source": [
    "Y ahora vamos a calcular nuestra U de esta forma\n",
    "\n",
    "$$U=\\frac{n_1n_2+n_1(n_1+1)}{2}-R_1$$"
   ]
  },
  {
   "cell_type": "code",
   "execution_count": 94,
   "metadata": {},
   "outputs": [
    {
     "data": {
      "text/plain": [
       "-21.069999999999993"
      ]
     },
     "execution_count": 94,
     "metadata": {},
     "output_type": "execute_result"
    }
   ],
   "source": [
    "\n",
    "U=(((n1*n2)+n1*(n1+1))/2)-R1\n",
    "U"
   ]
  },
  {
   "cell_type": "markdown",
   "metadata": {},
   "source": [
    "Y ahora calcularemos E(u)\n",
    "\n",
    "$$E(u)=\\frac{n_1n_2}{2}$$"
   ]
  },
  {
   "cell_type": "code",
   "execution_count": 95,
   "metadata": {},
   "outputs": [
    {
     "data": {
      "text/plain": [
       "24.5"
      ]
     },
     "execution_count": 95,
     "metadata": {},
     "output_type": "execute_result"
    }
   ],
   "source": [
    "EU=(n1*n2)/2\n",
    "EU"
   ]
  },
  {
   "cell_type": "markdown",
   "metadata": {},
   "source": [
    "Y ahora calcularemos V(u)\n",
    "\n",
    "$$V(u)=\\frac{n_1n_2(n_1+n_2+1)}{12}$$"
   ]
  },
  {
   "cell_type": "code",
   "execution_count": 96,
   "metadata": {},
   "outputs": [
    {
     "data": {
      "text/plain": [
       "204.16666666666666"
      ]
     },
     "execution_count": 96,
     "metadata": {},
     "output_type": "execute_result"
    }
   ],
   "source": [
    "VU=(n1*n2*(n1*n2+1))/12\n",
    "VU"
   ]
  },
  {
   "cell_type": "markdown",
   "metadata": {},
   "source": [
    "Y ahora podremos obtener Z\n",
    "\n",
    "$$Z=\\frac{u-E(u)}{\\sqrt{V(u)}}$$"
   ]
  },
  {
   "cell_type": "code",
   "execution_count": 99,
   "metadata": {},
   "outputs": [
    {
     "data": {
      "text/plain": [
       "-3.189235645103697"
      ]
     },
     "execution_count": 99,
     "metadata": {},
     "output_type": "execute_result"
    }
   ],
   "source": [
    "import math\n",
    "Z=(U-EU)/(math.sqrt(VU))\n",
    "Z"
   ]
  },
  {
   "cell_type": "markdown",
   "metadata": {},
   "source": [
    "Ahora que ya calculamos nuestra Z nos falta calcular nuestra $Z_{\\alpha=.025}$ que nos daria como resustlado\n",
    "\n",
    "$$Z_{\\alpha=.025}=1.96$$\n",
    "\n",
    "Entonces como -3.18 esta fuera del rango de (-1.96,1.96) eso quiere decir que no siguen la misma distrbución"
   ]
  },
  {
   "cell_type": "markdown",
   "metadata": {},
   "source": [
    "# Inferencia bayesiana para variables discretas\n"
   ]
  },
  {
   "cell_type": "code",
   "execution_count": null,
   "metadata": {},
   "outputs": [],
   "source": []
  },
  {
   "cell_type": "markdown",
   "metadata": {},
   "source": [
    "# Inferencia bayesiana para variables continuas\n",
    "\n",
    "## TEOREMA DE BAYES PARA LA DISTRIBUCION POISSON\n",
    "\n",
    "Un estudio bancario realizado en nuestro país demostró que las ventanillas bancarias y cajeros emiten hasta seis billetes falsos al día. Se realizo una muestra con los resultados observados en un banco durante una semana, el promedio de billetes falsos al día fue: λ=5,4,5,3,6,5,4 Proporcionar la distribución posterior asociada al valor que se observa para y=5\n",
    "\n",
    "|DIA|$\\lambda$|g($\\lambda$)|P(y=5/$\\lambda$)|g($\\lambda$)P(y=5/$\\lambda$)|P($\\lambda$/y=5)|\n",
    "|----------------|---------|----------------|------------|----------------------------|----------------|\n",
    "|**Lunes**|5|1/6|0.17547|.02925|0.15947|\n",
    "|**Martes**|4|1/6|0.15629|0.02605|0.14202|\n",
    "|**Miércoles**|5|1/6|0.17547|0.02925|0.15947|\n",
    "|**Jueves**|3|1/6|0.10082|0.01680|0.09159|\n",
    "|**Viernes**|6|1/6|0.16062|0.02677|0.14595|\n",
    "|**Sábado** |5|1/6|0.17547|0.02925|0.15947|\n",
    "|**Domingo** |4|1/6|0.15629|0.02605|0.14202|\n",
    "\n",
    "$$P(y/x)=.017547$$\n",
    "\n",
    "Se eligió el tema “teorema de Bayes para la distribución Poisson” de la unidad dos debido a que es un claro ejemplo de la inferencia estadística bayesiana discreta, se eligió la distribución ya que tiene gran campo de aplicación a ocurrencias de algún suceso durante un intervalo especifico."
   ]
  },
  {
   "cell_type": "code",
   "execution_count": null,
   "metadata": {},
   "outputs": [],
   "source": []
  }
 ],
 "metadata": {
  "kernelspec": {
   "display_name": "Python 3",
   "language": "python",
   "name": "python3"
  },
  "language_info": {
   "codemirror_mode": {
    "name": "ipython",
    "version": 3
   },
   "file_extension": ".py",
   "mimetype": "text/x-python",
   "name": "python",
   "nbconvert_exporter": "python",
   "pygments_lexer": "ipython3",
   "version": "3.6.5"
  }
 },
 "nbformat": 4,
 "nbformat_minor": 2
}
